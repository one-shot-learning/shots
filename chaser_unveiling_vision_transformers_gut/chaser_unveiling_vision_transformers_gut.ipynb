{
  "cells": [
    {
      "cell_type": "markdown",
      "source": [
        "![](https://production-media.paperswithcode.com/methods/Screen_Shot_2021-01-26_at_9.43.31_PM_uI4jjMq.png)"
      ],
      "metadata": {
        "id": "IDHHU_AzKqbI"
      },
      "id": "IDHHU_AzKqbI"
    },
    {
      "cell_type": "code",
      "source": [
        "!pip install transformers"
      ],
      "metadata": {
        "id": "pHxdJxxJ-gGA"
      },
      "id": "pHxdJxxJ-gGA",
      "execution_count": null,
      "outputs": []
    },
    {
      "cell_type": "code",
      "execution_count": 2,
      "id": "2d1a4dba",
      "metadata": {
        "id": "2d1a4dba"
      },
      "outputs": [],
      "source": [
        "import numpy as np\n",
        "import pandas as pd\n",
        "import os\n",
        "from transformers import ViTImageProcessor, ViTForImageClassification\n",
        "from PIL import Image\n",
        "from colorsys import hls_to_rgb\n",
        "import plotly.graph_objects as go"
      ]
    },
    {
      "cell_type": "code",
      "execution_count": 3,
      "id": "c0b087d7",
      "metadata": {
        "id": "c0b087d7"
      },
      "outputs": [],
      "source": [
        "model_name = 'google/vit-base-patch16-224'\n",
        "feature_extractor = ViTImageProcessor.from_pretrained(model_name)\n",
        "model = ViTForImageClassification.from_pretrained(model_name).cuda()\n",
        "\n",
        "layers = list(model.vit.encoder.layer.children())"
      ]
    },
    {
      "cell_type": "code",
      "execution_count": 4,
      "id": "20410c0d",
      "metadata": {
        "id": "20410c0d"
      },
      "outputs": [],
      "source": [
        "def set_num_layers(n):\n",
        "    for _ in range(len(model.vit.encoder.layer)):\n",
        "        model.vit.encoder.layer.pop(0)\n",
        "    model.vit.encoder.layer.extend(layers[:n])\n",
        "    \n",
        "\n",
        "def predict_image(image):\n",
        "    inputs = feature_extractor(images=image, return_tensors='pt')\n",
        "    inputs = {k: v.cuda() for k, v in inputs.items()}  # move tensors to GPU\n",
        "    outputs = model(**inputs)\n",
        "    predicted_class_idx = outputs.logits.argmax(-1).item()\n",
        "    return model.config.id2label[predicted_class_idx]\n",
        "\n",
        "\n",
        "def predict_image_by_all_layers(image):\n",
        "    res = []\n",
        "    for layer in range(len(layers)):\n",
        "        set_num_layers(layer)\n",
        "        res.append(predict_image(image))\n",
        "    return res"
      ]
    },
    {
      "cell_type": "code",
      "execution_count": 5,
      "id": "8c3c535a",
      "metadata": {
        "id": "8c3c535a"
      },
      "outputs": [],
      "source": [
        "base_path = 'images_hammerhead_shark'\n",
        "flows = []\n",
        "\n",
        "for path in os.listdir(base_path):\n",
        "    image = Image.open(f'{base_path}/{path}')\n",
        "    prediction_by_layers = predict_image_by_all_layers(image)\n",
        "    flows.extend([{\n",
        "        'path': path,\n",
        "        'source': f'L{idx}:{s}',\n",
        "        'target': f'L{idx + 1}:{t}',\n",
        "    } for idx , (s, t) in enumerate(zip(prediction_by_layers[:-1],\n",
        "                                        prediction_by_layers[1:]))])"
      ]
    },
    {
      "cell_type": "code",
      "source": [
        "links = (\n",
        "    pd.DataFrame(flows)\n",
        "    [['source', 'target']]\n",
        "    .value_counts()\n",
        "    .rename('count')\n",
        "    .reset_index()\n",
        ")"
      ],
      "metadata": {
        "id": "hpF5K2mSD_1X"
      },
      "id": "hpF5K2mSD_1X",
      "execution_count": 6,
      "outputs": []
    },
    {
      "cell_type": "code",
      "execution_count": 7,
      "id": "62b1676d",
      "metadata": {
        "id": "62b1676d"
      },
      "outputs": [],
      "source": [
        "nodes = pd.concat([links['source'],\n",
        "                   links['target']]).drop_duplicates().tolist()\n",
        "node_classes = [n.split(':')[1] for n in nodes]"
      ]
    },
    {
      "cell_type": "code",
      "execution_count": 8,
      "id": "e41035e3",
      "metadata": {
        "id": "e41035e3"
      },
      "outputs": [],
      "source": [
        "links['source_node_index'] = links['source'].apply(nodes.index)\n",
        "links['target_node_index'] = links['target'].apply(nodes.index)"
      ]
    },
    {
      "cell_type": "code",
      "execution_count": 9,
      "id": "a84d7683",
      "metadata": {
        "id": "a84d7683"
      },
      "outputs": [],
      "source": [
        "def get_distinct_colors(n):\n",
        "    colors = []\n",
        "    for i in np.arange(0., 360., 360. / n):\n",
        "        h = i / 360.\n",
        "        l = (50 + np.random.rand() * 10) / 100.\n",
        "        s = (90 + np.random.rand() * 10) / 100.\n",
        "        colors.append(hls_to_rgb(h, l, s))\n",
        "\n",
        "    return colors\n",
        "\n",
        "\n",
        "node_classes_unique = list(set(node_classes))\n",
        "distinct_colors = get_distinct_colors(len(node_classes_unique))\n",
        "class_colors = [f'rgb{i}' for i in distinct_colors]\n",
        "node_colors = [class_colors[node_classes_unique.index(node_class)]\n",
        "               for node_class in node_classes]"
      ]
    },
    {
      "cell_type": "code",
      "execution_count": 18,
      "id": "0dc5f77c",
      "metadata": {
        "id": "0dc5f77c",
        "colab": {
          "base_uri": "https://localhost:8080/",
          "height": 542
        },
        "outputId": "5b3bde5c-e502-4c64-a90f-99a6ce58029b"
      },
      "outputs": [
        {
          "output_type": "display_data",
          "data": {
            "text/html": [
              "<html>\n",
              "<head><meta charset=\"utf-8\" /></head>\n",
              "<body>\n",
              "    <div>            <script src=\"https://cdnjs.cloudflare.com/ajax/libs/mathjax/2.7.5/MathJax.js?config=TeX-AMS-MML_SVG\"></script><script type=\"text/javascript\">if (window.MathJax && window.MathJax.Hub && window.MathJax.Hub.Config) {window.MathJax.Hub.Config({SVG: {font: \"STIX-Web\"}});}</script>                <script type=\"text/javascript\">window.PlotlyConfig = {MathJaxConfig: 'local'};</script>\n",
              "        <script src=\"https://cdn.plot.ly/plotly-2.18.2.min.js\"></script>                <div id=\"de7c8d31-065f-4b58-8e7e-7384eb90dc24\" class=\"plotly-graph-div\" style=\"height:525px; width:100%;\"></div>            <script type=\"text/javascript\">                                    window.PLOTLYENV=window.PLOTLYENV || {};                                    if (document.getElementById(\"de7c8d31-065f-4b58-8e7e-7384eb90dc24\")) {                    Plotly.newPlot(                        \"de7c8d31-065f-4b58-8e7e-7384eb90dc24\",                        [{\"link\":{\"label\":[41,24,23,21,18,18,16,11,6,6,6,5,5,5,5,4,4,4,4,3,3,3,3,3,3,3,3,3,3,3,3,3,3,3,3,3,3,3,2,2,2,2,2,2,2,2,2,2,2,2,2,2,2,2,2,2,2,2,2,2,2,2,2,2,2,2,2,2,2,2,2,2,2,2,2,2,2,2,1,1,1,1,1,1,1,1,1,1,1,1,1,1,1,1,1,1,1,1,1,1,1,1,1,1,1,1,1,1,1,1,1,1,1,1,1,1,1,1,1,1,1,1,1,1,1,1,1,1,1,1,1,1,1,1,1,1,1,1,1,1,1,1,1,1,1,1,1,1,1,1,1,1,1,1,1,1,1,1,1,1,1,1,1,1,1,1,1,1,1,1,1,1,1,1,1,1,1,1,1,1,1,1,1,1,1,1,1,1,1,1,1,1,1,1,1,1,1,1,1,1,1,1,1,1,1,1,1,1,1,1,1,1,1,1,1,1,1,1,1,1,1,1,1,1,1,1,1,1,1,1,1,1,1,1,1,1,1,1,1,1,1,1,1,1,1,1,1,1,1,1,1,1,1,1,1,1,1,1,1,1,1,1,1,1,1],\"source\":[0,1,2,3,4,5,4,6,7,8,9,10,11,12,13,14,15,9,16,17,18,19,19,20,19,0,21,16,22,23,24,25,26,27,28,2,29,24,30,18,31,32,33,34,35,25,33,36,23,37,37,38,39,40,41,42,43,44,45,46,47,48,48,49,50,37,50,0,51,16,52,4,4,9,9,16,53,16,54,55,26,56,57,27,58,59,58,8,60,61,62,62,47,63,64,65,66,13,67,68,61,69,11,14,14,14,70,71,4,72,4,11,23,73,4,23,74,75,49,49,76,77,78,13,79,67,80,81,82,52,42,42,80,22,22,1,80,83,84,85,40,0,86,0,87,0,88,81,89,90,52,91,91,91,92,67,93,94,3,95,3,3,2,96,44,44,44,16,97,43,69,98,16,99,100,100,100,100,101,102,102,103,104,105,106,107,108,109,31,110,30,30,30,33,100,100,111,35,33,18,16,18,18,112,113,113,113,113,114,115,34,34,16,116,117,16,12,118,119,120,121,122,10,10,123,123,123,124,125,126,121,127,128,129,130,131,132,50,133,19,134,37,122,135,9,136,137,137,7,9,138,0,25,25,25,139,15,9,140,141,141,142,143,144,145],\"target\":[4,2,146,1,16,3,9,5,19,24,18,11,8,25,44,27,14,33,12,146,30,23,6,50,26,20,29,34,52,48,1,37,13,91,147,147,43,42,19,7,10,37,7,15,15,69,32,31,13,21,6,62,67,17,2,80,39,40,41,22,45,3,46,47,18,49,102,58,35,113,147,51,50,12,100,33,28,100,146,66,5,122,5,47,99,5,120,3,139,65,147,146,3,146,89,81,96,3,147,13,5,23,13,72,6,49,137,6,111,64,109,5,8,83,134,5,122,135,48,5,9,79,8,82,97,148,149,88,53,149,17,28,147,2,67,52,150,90,95,94,80,74,93,75,63,76,54,84,38,87,146,92,3,81,86,146,146,151,22,146,40,53,152,38,42,22,1,101,85,22,57,30,114,113,110,118,7,141,7,127,142,19,10,14,10,10,128,112,123,130,124,125,126,107,105,103,115,25,140,136,60,25,15,30,104,106,7,141,25,119,108,137,117,31,138,70,143,121,131,100,6,98,23,26,11,23,6,23,6,68,49,37,77,6,78,21,73,34,55,11,100,59,36,116,36,145,144,133,123,35,10,56,129,19,14,14,132,113,123,10,121,37,71,61,61],\"value\":[41,24,23,21,18,18,16,11,6,6,6,5,5,5,5,4,4,4,4,3,3,3,3,3,3,3,3,3,3,3,3,3,3,3,3,3,3,3,2,2,2,2,2,2,2,2,2,2,2,2,2,2,2,2,2,2,2,2,2,2,2,2,2,2,2,2,2,2,2,2,2,2,2,2,2,2,2,2,1,1,1,1,1,1,1,1,1,1,1,1,1,1,1,1,1,1,1,1,1,1,1,1,1,1,1,1,1,1,1,1,1,1,1,1,1,1,1,1,1,1,1,1,1,1,1,1,1,1,1,1,1,1,1,1,1,1,1,1,1,1,1,1,1,1,1,1,1,1,1,1,1,1,1,1,1,1,1,1,1,1,1,1,1,1,1,1,1,1,1,1,1,1,1,1,1,1,1,1,1,1,1,1,1,1,1,1,1,1,1,1,1,1,1,1,1,1,1,1,1,1,1,1,1,1,1,1,1,1,1,1,1,1,1,1,1,1,1,1,1,1,1,1,1,1,1,1,1,1,1,1,1,1,1,1,1,1,1,1,1,1,1,1,1,1,1,1,1,1,1,1,1,1,1,1,1,1,1,1,1,1,1,1,1,1,1]},\"node\":{\"color\":[\"rgb(0.056226541149676734, 0.9879838787448845, 0.20530771516491)\",\"rgb(0.9653607075359101, 0.2693997751943832, 0.1744960116932659)\",\"rgb(0.9653607075359101, 0.2693997751943832, 0.1744960116932659)\",\"rgb(0.9653607075359101, 0.2693997751943832, 0.1744960116932659)\",\"rgb(0.9793019169785061, 0.9432888770651945, 0.07897591914571456)\",\"rgb(0.9653607075359101, 0.2693997751943832, 0.1744960116932659)\",\"rgb(0.9653607075359101, 0.2693997751943832, 0.1744960116932659)\",\"rgb(0.79783888814717, 0.14739263336382435, 0.9604504518430065)\",\"rgb(0.11592543124769505, 0.9894937008408843, 0.15086816203142284)\",\"rgb(0.1057934349334817, 0.5481536616464715, 0.9564861786123093)\",\"rgb(0.11592543124769505, 0.9894937008408843, 0.15086816203142284)\",\"rgb(0.11592543124769505, 0.9894937008408843, 0.15086816203142284)\",\"rgb(0.687366986972359, 0.037626068413739056, 0.9931274192352393)\",\"rgb(0.79783888814717, 0.14739263336382435, 0.9604504518430065)\",\"rgb(0.9653916420216755, 0.5979634285345499, 0.046821108303861214)\",\"rgb(0.9653916420216755, 0.5979634285345499, 0.046821108303861214)\",\"rgb(0.9793019169785061, 0.9432888770651945, 0.07897591914571456)\",\"rgb(0.79783888814717, 0.14739263336382435, 0.9604504518430065)\",\"rgb(0.1057934349334817, 0.5481536616464715, 0.9564861786123093)\",\"rgb(0.79783888814717, 0.14739263336382435, 0.9604504518430065)\",\"rgb(0.2135518944725625, 0.9709780332748155, 0.6983046233060044)\",\"rgb(0.09619548367555253, 0.4502761680373087, 0.9813971945799431)\",\"rgb(0.9776810469364563, 0.1446110553935438, 0.1446110553935438)\",\"rgb(0.9776810469364563, 0.1446110553935438, 0.1446110553935438)\",\"rgb(0.11592543124769505, 0.9894937008408843, 0.15086816203142284)\",\"rgb(0.687366986972359, 0.037626068413739056, 0.9931274192352393)\",\"rgb(0.79783888814717, 0.14739263336382435, 0.9604504518430065)\",\"rgb(0.9653916420216755, 0.5979634285345499, 0.046821108303861214)\",\"rgb(0.25529386637214263, 0.9886675650650079, 0.19152224039885013)\",\"rgb(0.687366986972359, 0.037626068413739056, 0.9931274192352393)\",\"rgb(0.1057934349334817, 0.5481536616464715, 0.9564861786123093)\",\"rgb(0.9675233073514197, 0.12508167430941752, 0.32726766623949766)\",\"rgb(0.09619548367555253, 0.4502761680373087, 0.9813971945799431)\",\"rgb(0.09619548367555253, 0.4502761680373087, 0.9813971945799431)\",\"rgb(0.9793019169785061, 0.9432888770651945, 0.07897591914571456)\",\"rgb(0.9653916420216755, 0.5979634285345499, 0.046821108303861214)\",\"rgb(0.9675233073514197, 0.12508167430941752, 0.32726766623949766)\",\"rgb(0.09619548367555253, 0.4502761680373087, 0.9813971945799431)\",\"rgb(0.6090305395066637, 0.9825081267060191, 0.13369542852566674)\",\"rgb(0.687366986972359, 0.037626068413739056, 0.9931274192352393)\",\"rgb(0.79783888814717, 0.14739263336382435, 0.9604504518430065)\",\"rgb(0.9961045056422696, 0.04293100596761035, 0.9579775656552821)\",\"rgb(0.11592543124769505, 0.9894937008408843, 0.15086816203142284)\",\"rgb(0.687366986972359, 0.037626068413739056, 0.9931274192352393)\",\"rgb(0.79783888814717, 0.14739263336382435, 0.9604504518430065)\",\"rgb(0.9961045056422696, 0.04293100596761035, 0.9579775656552821)\",\"rgb(0.9776810469364563, 0.1446110553935438, 0.1446110553935438)\",\"rgb(0.9961045056422696, 0.04293100596761035, 0.9579775656552821)\",\"rgb(0.9776810469364563, 0.1446110553935438, 0.1446110553935438)\",\"rgb(0.9961045056422696, 0.04293100596761035, 0.9579775656552821)\",\"rgb(0.2135518944725625, 0.9709780332748155, 0.6983046233060044)\",\"rgb(0.9653916420216755, 0.5979634285345499, 0.046821108303861214)\",\"rgb(0.9776810469364563, 0.1446110553935438, 0.1446110553935438)\",\"rgb(0.25529386637214263, 0.9886675650650079, 0.19152224039885013)\",\"rgb(0.9653916420216755, 0.5979634285345499, 0.046821108303861214)\",\"rgb(0.9793019169785061, 0.9432888770651945, 0.07897591914571456)\",\"rgb(0.9675233073514197, 0.12508167430941752, 0.32726766623949766)\",\"rgb(0.687366986972359, 0.037626068413739056, 0.9931274192352393)\",\"rgb(0.5543188927222253, 0.22579224275044052, 0.9724437199590411)\",\"rgb(0.0841228579991854, 0.22972981302702541, 0.9941663269231872)\",\"rgb(0.4521313231237616, 0.9894912469065931, 0.19925606487301728)\",\"rgb(0.1800639388004862, 0.9737043206771417, 0.40228324572594987)\",\"rgb(0.6090305395066637, 0.9825081267060191, 0.13369542852566674)\",\"rgb(0.9795925724747089, 0.16223156614108525, 0.4564815284211895)\",\"rgb(0.5610615863337425, 0.021331401552029616, 0.9851353029479462)\",\"rgb(0.045864586962286236, 0.9819830141646351, 0.532646169107508)\",\"rgb(0.5384157337466404, 0.9715547841066948, 0.19809219417802593)\",\"rgb(0.687366986972359, 0.037626068413739056, 0.9931274192352393)\",\"rgb(0.08175213863444075, 0.9913456039327487, 0.4455895247537642)\",\"rgb(0.687366986972359, 0.037626068413739056, 0.9931274192352393)\",\"rgb(0.233982656487283, 0.9636048147791046, 0.7884954967890674)\",\"rgb(0.21264189201348915, 0.24297211435880905, 0.9708974506464942)\",\"rgb(0.9876583625394207, 0.36421060840888075, 0.16733237026239445)\",\"rgb(0.9940982149270822, 0.11999596832953119, 0.6444573162880617)\",\"rgb(0.9963290801407141, 0.8519860802987073, 0.09418533112817218)\",\"rgb(0.8898981041510876, 0.9554183596987849, 0.1364151653525696)\",\"rgb(0.1057934349334817, 0.5481536616464715, 0.9564861786123093)\",\"rgb(0.053741502132806596, 0.7548592143803022, 0.9762648077216171)\",\"rgb(0.38241092815068534, 0.09600214524199846, 0.9910295918316466)\",\"rgb(0.9968508406671792, 0.7743927475542999, 0.20235765097832403)\",\"rgb(0.11592543124769505, 0.9894937008408843, 0.15086816203142284)\",\"rgb(0.9653916420216755, 0.5979634285345499, 0.046821108303861214)\",\"rgb(0.25529386637214263, 0.9886675650650079, 0.19152224039885013)\",\"rgb(0.9795925724747089, 0.16223156614108525, 0.4564815284211895)\",\"rgb(0.9712335210346505, 0.49081937032733386, 0.047360154289810774)\",\"rgb(0.5384157337466404, 0.9715547841066948, 0.19809219417802593)\",\"rgb(0.9675943967179738, 0.16645366495188474, 0.26259055276381493)\",\"rgb(0.9795925724747089, 0.16223156614108525, 0.4564815284211895)\",\"rgb(0.9653916420216755, 0.5979634285345499, 0.046821108303861214)\",\"rgb(0.6090305395066637, 0.9825081267060191, 0.13369542852566674)\",\"rgb(0.9795925724747089, 0.16223156614108525, 0.4564815284211895)\",\"rgb(0.9653916420216755, 0.5979634285345499, 0.046821108303861214)\",\"rgb(0.7192274292013485, 0.959347367682895, 0.20897255992806296)\",\"rgb(0.9675943967179738, 0.16645366495188474, 0.26259055276381493)\",\"rgb(0.5384157337466404, 0.9715547841066948, 0.19809219417802593)\",\"rgb(0.9712335210346505, 0.49081937032733386, 0.047360154289810774)\",\"rgb(0.5384157337466404, 0.9715547841066948, 0.19809219417802593)\",\"rgb(0.9968508406671792, 0.7743927475542999, 0.20235765097832403)\",\"rgb(0.7192274292013485, 0.959347367682895, 0.20897255992806296)\",\"rgb(0.38241092815068534, 0.09600214524199846, 0.9910295918316466)\",\"rgb(0.9626340751792956, 0.132042401106652, 0.8297394073276715)\",\"rgb(0.0841228579991854, 0.22972981302702541, 0.9941663269231872)\",\"rgb(0.21264189201348915, 0.24297211435880905, 0.9708974506464942)\",\"rgb(0.5543188927222253, 0.22579224275044052, 0.9724437199590411)\",\"rgb(0.1722017822951536, 0.9606980099606816, 0.9606980099606817)\",\"rgb(0.9814524668457898, 0.1674220375052875, 0.5581566435887284)\",\"rgb(0.38241092815068534, 0.09600214524199846, 0.9910295918316466)\",\"rgb(0.11592543124769505, 0.9894937008408843, 0.15086816203142284)\",\"rgb(0.4521313231237616, 0.9894912469065931, 0.19925606487301728)\",\"rgb(0.053741502132806596, 0.7548592143803022, 0.9762648077216171)\",\"rgb(0.15276397561917499, 0.666604221807674, 0.9556393602887046)\",\"rgb(0.8211966950260938, 0.9720786073359164, 0.21766904578680402)\",\"rgb(0.053741502132806596, 0.7548592143803022, 0.9762648077216171)\",\"rgb(0.38241092815068534, 0.09600214524199846, 0.9910295918316466)\",\"rgb(0.21699149889684166, 0.8887496658475961, 0.980353052249972)\",\"rgb(0.8211966950260938, 0.9720786073359164, 0.21766904578680402)\",\"rgb(0.79783888814717, 0.14739263336382435, 0.9604504518430065)\",\"rgb(0.14619990423170715, 0.9977434309666929, 0.8955582077584949)\",\"rgb(0.9961045056422696, 0.04293100596761035, 0.9579775656552821)\",\"rgb(0.8211966950260938, 0.9720786073359164, 0.21766904578680402)\",\"rgb(0.5543188927222253, 0.22579224275044052, 0.9724437199590411)\",\"rgb(0.9961045056422696, 0.04293100596761035, 0.9579775656552821)\",\"rgb(0.9675233073514197, 0.12508167430941752, 0.32726766623949766)\",\"rgb(0.9675233073514197, 0.12508167430941752, 0.32726766623949766)\",\"rgb(0.9776810469364563, 0.1446110553935438, 0.1446110553935438)\",\"rgb(0.9653607075359101, 0.2693997751943832, 0.1744960116932659)\",\"rgb(0.1057934349334817, 0.5481536616464715, 0.9564861786123093)\",\"rgb(0.045864586962286236, 0.9819830141646351, 0.532646169107508)\",\"rgb(0.053741502132806596, 0.7548592143803022, 0.9762648077216171)\",\"rgb(0.9987067391348108, 0.40709235480479844, 0.07430926361916645)\",\"rgb(0.38241092815068534, 0.09600214524199846, 0.9910295918316466)\",\"rgb(0.8211966950260938, 0.9720786073359164, 0.21766904578680402)\",\"rgb(0.9940982149270822, 0.11999596832953119, 0.6444573162880617)\",\"rgb(0.5384157337466404, 0.9715547841066948, 0.19809219417802593)\",\"rgb(0.09619548367555253, 0.4502761680373087, 0.9813971945799431)\",\"rgb(0.9776810469364563, 0.1446110553935438, 0.1446110553935438)\",\"rgb(0.1800639388004862, 0.9737043206771417, 0.40228324572594987)\",\"rgb(0.5384157337466404, 0.9715547841066948, 0.19809219417802593)\",\"rgb(0.14619990423170715, 0.9977434309666929, 0.8955582077584949)\",\"rgb(0.2614302512046263, 0.2002539016850814, 0.9649582706793881)\",\"rgb(0.9279791202796207, 0.17197846813315498, 0.9937183074227917)\",\"rgb(0.9626340751792956, 0.132042401106652, 0.8297394073276715)\",\"rgb(0.33410447824970074, 0.17021441766670764, 0.9896647205816761)\",\"rgb(0.21264189201348915, 0.24297211435880905, 0.9708974506464942)\",\"rgb(0.233982656487283, 0.9636048147791046, 0.7884954967890674)\",\"rgb(0.1800639388004862, 0.9737043206771417, 0.40228324572594987)\",\"rgb(0.9653607075359101, 0.2693997751943832, 0.1744960116932659)\",\"rgb(0.25529386637214263, 0.9886675650650079, 0.19152224039885013)\",\"rgb(0.17313223851833914, 0.40021480266643794, 0.9841413961901211)\",\"rgb(0.9776810469364563, 0.1446110553935438, 0.1446110553935438)\",\"rgb(0.11592543124769505, 0.9894937008408843, 0.15086816203142284)\",\"rgb(0.34763147459356514, 0.9945400068847479, 0.1859043415207695)\",\"rgb(0.9598775016915373, 0.09159946291110677, 0.7167596508330167)\"],\"label\":[\"hair slide\",\"hammerhead, hammerhead shark\",\"hammerhead, hammerhead shark\",\"hammerhead, hammerhead shark\",\"pole\",\"hammerhead, hammerhead shark\",\"hammerhead, hammerhead shark\",\"scuba diver\",\"coral reef\",\"hook, claw\",\"coral reef\",\"coral reef\",\"spotlight, spot\",\"scuba diver\",\"syringe\",\"syringe\",\"pole\",\"scuba diver\",\"hook, claw\",\"scuba diver\",\"water jug\",\"bubble\",\"electric ray, crampfish, numbfish, torpedo\",\"electric ray, crampfish, numbfish, torpedo\",\"coral reef\",\"spotlight, spot\",\"scuba diver\",\"syringe\",\"tiger shark, Galeocerdo cuvieri\",\"spotlight, spot\",\"hook, claw\",\"dugong, Dugong dugon\",\"bubble\",\"bubble\",\"pole\",\"syringe\",\"dugong, Dugong dugon\",\"bubble\",\"sturgeon\",\"spotlight, spot\",\"scuba diver\",\"jellyfish\",\"coral reef\",\"spotlight, spot\",\"scuba diver\",\"jellyfish\",\"electric ray, crampfish, numbfish, torpedo\",\"jellyfish\",\"electric ray, crampfish, numbfish, torpedo\",\"jellyfish\",\"water jug\",\"syringe\",\"electric ray, crampfish, numbfish, torpedo\",\"tiger shark, Galeocerdo cuvieri\",\"syringe\",\"pole\",\"dugong, Dugong dugon\",\"spotlight, spot\",\"Granny Smith\",\"volcano\",\"crash helmet\",\"parachute, chute\",\"sturgeon\",\"stingray\",\"milk can\",\"paintbrush\",\"sandbar, sand bar\",\"spotlight, spot\",\"passenger car, coach, carriage\",\"spotlight, spot\",\"alp\",\"water bottle\",\"cleaver, meat cleaver, chopper\",\"paper towel\",\"maillot, tank suit\",\"maillot\",\"hook, claw\",\"knee pad\",\"lakeside, lakeshore\",\"solar dish, solar collector, solar furnace\",\"coral reef\",\"syringe\",\"tiger shark, Galeocerdo cuvieri\",\"stingray\",\"night snake, Hypsiglena torquata\",\"sandbar, sand bar\",\"snorkel\",\"stingray\",\"syringe\",\"sturgeon\",\"stingray\",\"syringe\",\"bathing cap, swimming cap\",\"snorkel\",\"sandbar, sand bar\",\"night snake, Hypsiglena torquata\",\"sandbar, sand bar\",\"solar dish, solar collector, solar furnace\",\"bathing cap, swimming cap\",\"lakeside, lakeshore\",\"traffic light, traffic signal, stoplight\",\"volcano\",\"water bottle\",\"Granny Smith\",\"broccoli\",\"bucket, pail\",\"lakeside, lakeshore\",\"coral reef\",\"crash helmet\",\"knee pad\",\"flagpole, flagstaff\",\"nipple\",\"knee pad\",\"lakeside, lakeshore\",\"mask\",\"nipple\",\"scuba diver\",\"sea lion\",\"jellyfish\",\"nipple\",\"Granny Smith\",\"jellyfish\",\"dugong, Dugong dugon\",\"dugong, Dugong dugon\",\"electric ray, crampfish, numbfish, torpedo\",\"hammerhead, hammerhead shark\",\"hook, claw\",\"paintbrush\",\"knee pad\",\"knot\",\"lakeside, lakeshore\",\"nipple\",\"paper towel\",\"sandbar, sand bar\",\"bubble\",\"electric ray, crampfish, numbfish, torpedo\",\"parachute, chute\",\"sandbar, sand bar\",\"sea lion\",\"sunglasses, dark glasses, shades\",\"tennis ball\",\"traffic light, traffic signal, stoplight\",\"trombone\",\"water bottle\",\"alp\",\"parachute, chute\",\"hammerhead, hammerhead shark\",\"tiger shark, Galeocerdo cuvieri\",\"starfish, sea star\",\"electric ray, crampfish, numbfish, torpedo\",\"coral reef\",\"barracouta, snoek\",\"great white shark, white shark, man-eater, man-eating shark, Carcharodon carcharias\"],\"line\":{\"color\":\"black\",\"width\":0.5},\"pad\":15,\"thickness\":15},\"type\":\"sankey\"}],                        {\"template\":{\"data\":{\"histogram2dcontour\":[{\"type\":\"histogram2dcontour\",\"colorbar\":{\"outlinewidth\":0,\"ticks\":\"\"},\"colorscale\":[[0.0,\"#0d0887\"],[0.1111111111111111,\"#46039f\"],[0.2222222222222222,\"#7201a8\"],[0.3333333333333333,\"#9c179e\"],[0.4444444444444444,\"#bd3786\"],[0.5555555555555556,\"#d8576b\"],[0.6666666666666666,\"#ed7953\"],[0.7777777777777778,\"#fb9f3a\"],[0.8888888888888888,\"#fdca26\"],[1.0,\"#f0f921\"]]}],\"choropleth\":[{\"type\":\"choropleth\",\"colorbar\":{\"outlinewidth\":0,\"ticks\":\"\"}}],\"histogram2d\":[{\"type\":\"histogram2d\",\"colorbar\":{\"outlinewidth\":0,\"ticks\":\"\"},\"colorscale\":[[0.0,\"#0d0887\"],[0.1111111111111111,\"#46039f\"],[0.2222222222222222,\"#7201a8\"],[0.3333333333333333,\"#9c179e\"],[0.4444444444444444,\"#bd3786\"],[0.5555555555555556,\"#d8576b\"],[0.6666666666666666,\"#ed7953\"],[0.7777777777777778,\"#fb9f3a\"],[0.8888888888888888,\"#fdca26\"],[1.0,\"#f0f921\"]]}],\"heatmap\":[{\"type\":\"heatmap\",\"colorbar\":{\"outlinewidth\":0,\"ticks\":\"\"},\"colorscale\":[[0.0,\"#0d0887\"],[0.1111111111111111,\"#46039f\"],[0.2222222222222222,\"#7201a8\"],[0.3333333333333333,\"#9c179e\"],[0.4444444444444444,\"#bd3786\"],[0.5555555555555556,\"#d8576b\"],[0.6666666666666666,\"#ed7953\"],[0.7777777777777778,\"#fb9f3a\"],[0.8888888888888888,\"#fdca26\"],[1.0,\"#f0f921\"]]}],\"heatmapgl\":[{\"type\":\"heatmapgl\",\"colorbar\":{\"outlinewidth\":0,\"ticks\":\"\"},\"colorscale\":[[0.0,\"#0d0887\"],[0.1111111111111111,\"#46039f\"],[0.2222222222222222,\"#7201a8\"],[0.3333333333333333,\"#9c179e\"],[0.4444444444444444,\"#bd3786\"],[0.5555555555555556,\"#d8576b\"],[0.6666666666666666,\"#ed7953\"],[0.7777777777777778,\"#fb9f3a\"],[0.8888888888888888,\"#fdca26\"],[1.0,\"#f0f921\"]]}],\"contourcarpet\":[{\"type\":\"contourcarpet\",\"colorbar\":{\"outlinewidth\":0,\"ticks\":\"\"}}],\"contour\":[{\"type\":\"contour\",\"colorbar\":{\"outlinewidth\":0,\"ticks\":\"\"},\"colorscale\":[[0.0,\"#0d0887\"],[0.1111111111111111,\"#46039f\"],[0.2222222222222222,\"#7201a8\"],[0.3333333333333333,\"#9c179e\"],[0.4444444444444444,\"#bd3786\"],[0.5555555555555556,\"#d8576b\"],[0.6666666666666666,\"#ed7953\"],[0.7777777777777778,\"#fb9f3a\"],[0.8888888888888888,\"#fdca26\"],[1.0,\"#f0f921\"]]}],\"surface\":[{\"type\":\"surface\",\"colorbar\":{\"outlinewidth\":0,\"ticks\":\"\"},\"colorscale\":[[0.0,\"#0d0887\"],[0.1111111111111111,\"#46039f\"],[0.2222222222222222,\"#7201a8\"],[0.3333333333333333,\"#9c179e\"],[0.4444444444444444,\"#bd3786\"],[0.5555555555555556,\"#d8576b\"],[0.6666666666666666,\"#ed7953\"],[0.7777777777777778,\"#fb9f3a\"],[0.8888888888888888,\"#fdca26\"],[1.0,\"#f0f921\"]]}],\"mesh3d\":[{\"type\":\"mesh3d\",\"colorbar\":{\"outlinewidth\":0,\"ticks\":\"\"}}],\"scatter\":[{\"fillpattern\":{\"fillmode\":\"overlay\",\"size\":10,\"solidity\":0.2},\"type\":\"scatter\"}],\"parcoords\":[{\"type\":\"parcoords\",\"line\":{\"colorbar\":{\"outlinewidth\":0,\"ticks\":\"\"}}}],\"scatterpolargl\":[{\"type\":\"scatterpolargl\",\"marker\":{\"colorbar\":{\"outlinewidth\":0,\"ticks\":\"\"}}}],\"bar\":[{\"error_x\":{\"color\":\"#2a3f5f\"},\"error_y\":{\"color\":\"#2a3f5f\"},\"marker\":{\"line\":{\"color\":\"#E5ECF6\",\"width\":0.5},\"pattern\":{\"fillmode\":\"overlay\",\"size\":10,\"solidity\":0.2}},\"type\":\"bar\"}],\"scattergeo\":[{\"type\":\"scattergeo\",\"marker\":{\"colorbar\":{\"outlinewidth\":0,\"ticks\":\"\"}}}],\"scatterpolar\":[{\"type\":\"scatterpolar\",\"marker\":{\"colorbar\":{\"outlinewidth\":0,\"ticks\":\"\"}}}],\"histogram\":[{\"marker\":{\"pattern\":{\"fillmode\":\"overlay\",\"size\":10,\"solidity\":0.2}},\"type\":\"histogram\"}],\"scattergl\":[{\"type\":\"scattergl\",\"marker\":{\"colorbar\":{\"outlinewidth\":0,\"ticks\":\"\"}}}],\"scatter3d\":[{\"type\":\"scatter3d\",\"line\":{\"colorbar\":{\"outlinewidth\":0,\"ticks\":\"\"}},\"marker\":{\"colorbar\":{\"outlinewidth\":0,\"ticks\":\"\"}}}],\"scattermapbox\":[{\"type\":\"scattermapbox\",\"marker\":{\"colorbar\":{\"outlinewidth\":0,\"ticks\":\"\"}}}],\"scatterternary\":[{\"type\":\"scatterternary\",\"marker\":{\"colorbar\":{\"outlinewidth\":0,\"ticks\":\"\"}}}],\"scattercarpet\":[{\"type\":\"scattercarpet\",\"marker\":{\"colorbar\":{\"outlinewidth\":0,\"ticks\":\"\"}}}],\"carpet\":[{\"aaxis\":{\"endlinecolor\":\"#2a3f5f\",\"gridcolor\":\"white\",\"linecolor\":\"white\",\"minorgridcolor\":\"white\",\"startlinecolor\":\"#2a3f5f\"},\"baxis\":{\"endlinecolor\":\"#2a3f5f\",\"gridcolor\":\"white\",\"linecolor\":\"white\",\"minorgridcolor\":\"white\",\"startlinecolor\":\"#2a3f5f\"},\"type\":\"carpet\"}],\"table\":[{\"cells\":{\"fill\":{\"color\":\"#EBF0F8\"},\"line\":{\"color\":\"white\"}},\"header\":{\"fill\":{\"color\":\"#C8D4E3\"},\"line\":{\"color\":\"white\"}},\"type\":\"table\"}],\"barpolar\":[{\"marker\":{\"line\":{\"color\":\"#E5ECF6\",\"width\":0.5},\"pattern\":{\"fillmode\":\"overlay\",\"size\":10,\"solidity\":0.2}},\"type\":\"barpolar\"}],\"pie\":[{\"automargin\":true,\"type\":\"pie\"}]},\"layout\":{\"autotypenumbers\":\"strict\",\"colorway\":[\"#636efa\",\"#EF553B\",\"#00cc96\",\"#ab63fa\",\"#FFA15A\",\"#19d3f3\",\"#FF6692\",\"#B6E880\",\"#FF97FF\",\"#FECB52\"],\"font\":{\"color\":\"#2a3f5f\"},\"hovermode\":\"closest\",\"hoverlabel\":{\"align\":\"left\"},\"paper_bgcolor\":\"white\",\"plot_bgcolor\":\"#E5ECF6\",\"polar\":{\"bgcolor\":\"#E5ECF6\",\"angularaxis\":{\"gridcolor\":\"white\",\"linecolor\":\"white\",\"ticks\":\"\"},\"radialaxis\":{\"gridcolor\":\"white\",\"linecolor\":\"white\",\"ticks\":\"\"}},\"ternary\":{\"bgcolor\":\"#E5ECF6\",\"aaxis\":{\"gridcolor\":\"white\",\"linecolor\":\"white\",\"ticks\":\"\"},\"baxis\":{\"gridcolor\":\"white\",\"linecolor\":\"white\",\"ticks\":\"\"},\"caxis\":{\"gridcolor\":\"white\",\"linecolor\":\"white\",\"ticks\":\"\"}},\"coloraxis\":{\"colorbar\":{\"outlinewidth\":0,\"ticks\":\"\"}},\"colorscale\":{\"sequential\":[[0.0,\"#0d0887\"],[0.1111111111111111,\"#46039f\"],[0.2222222222222222,\"#7201a8\"],[0.3333333333333333,\"#9c179e\"],[0.4444444444444444,\"#bd3786\"],[0.5555555555555556,\"#d8576b\"],[0.6666666666666666,\"#ed7953\"],[0.7777777777777778,\"#fb9f3a\"],[0.8888888888888888,\"#fdca26\"],[1.0,\"#f0f921\"]],\"sequentialminus\":[[0.0,\"#0d0887\"],[0.1111111111111111,\"#46039f\"],[0.2222222222222222,\"#7201a8\"],[0.3333333333333333,\"#9c179e\"],[0.4444444444444444,\"#bd3786\"],[0.5555555555555556,\"#d8576b\"],[0.6666666666666666,\"#ed7953\"],[0.7777777777777778,\"#fb9f3a\"],[0.8888888888888888,\"#fdca26\"],[1.0,\"#f0f921\"]],\"diverging\":[[0,\"#8e0152\"],[0.1,\"#c51b7d\"],[0.2,\"#de77ae\"],[0.3,\"#f1b6da\"],[0.4,\"#fde0ef\"],[0.5,\"#f7f7f7\"],[0.6,\"#e6f5d0\"],[0.7,\"#b8e186\"],[0.8,\"#7fbc41\"],[0.9,\"#4d9221\"],[1,\"#276419\"]]},\"xaxis\":{\"gridcolor\":\"white\",\"linecolor\":\"white\",\"ticks\":\"\",\"title\":{\"standoff\":15},\"zerolinecolor\":\"white\",\"automargin\":true,\"zerolinewidth\":2},\"yaxis\":{\"gridcolor\":\"white\",\"linecolor\":\"white\",\"ticks\":\"\",\"title\":{\"standoff\":15},\"zerolinecolor\":\"white\",\"automargin\":true,\"zerolinewidth\":2},\"scene\":{\"xaxis\":{\"backgroundcolor\":\"#E5ECF6\",\"gridcolor\":\"white\",\"linecolor\":\"white\",\"showbackground\":true,\"ticks\":\"\",\"zerolinecolor\":\"white\",\"gridwidth\":2},\"yaxis\":{\"backgroundcolor\":\"#E5ECF6\",\"gridcolor\":\"white\",\"linecolor\":\"white\",\"showbackground\":true,\"ticks\":\"\",\"zerolinecolor\":\"white\",\"gridwidth\":2},\"zaxis\":{\"backgroundcolor\":\"#E5ECF6\",\"gridcolor\":\"white\",\"linecolor\":\"white\",\"showbackground\":true,\"ticks\":\"\",\"zerolinecolor\":\"white\",\"gridwidth\":2}},\"shapedefaults\":{\"line\":{\"color\":\"#2a3f5f\"}},\"annotationdefaults\":{\"arrowcolor\":\"#2a3f5f\",\"arrowhead\":0,\"arrowwidth\":1},\"geo\":{\"bgcolor\":\"white\",\"landcolor\":\"#E5ECF6\",\"subunitcolor\":\"white\",\"showland\":true,\"showlakes\":true,\"lakecolor\":\"white\"},\"title\":{\"x\":0.05},\"mapbox\":{\"style\":\"light\"}}}},                        {\"responsive\": true}                    ).then(function(){\n",
              "                            \n",
              "var gd = document.getElementById('de7c8d31-065f-4b58-8e7e-7384eb90dc24');\n",
              "var x = new MutationObserver(function (mutations, observer) {{\n",
              "        var display = window.getComputedStyle(gd).display;\n",
              "        if (!display || display === 'none') {{\n",
              "            console.log([gd, 'removed!']);\n",
              "            Plotly.purge(gd);\n",
              "            observer.disconnect();\n",
              "        }}\n",
              "}});\n",
              "\n",
              "// Listen for the removal of the full notebook cells\n",
              "var notebookContainer = gd.closest('#notebook-container');\n",
              "if (notebookContainer) {{\n",
              "    x.observe(notebookContainer, {childList: true});\n",
              "}}\n",
              "\n",
              "// Listen for the clearing of the current output cell\n",
              "var outputEl = gd.closest('.output');\n",
              "if (outputEl) {{\n",
              "    x.observe(outputEl, {childList: true});\n",
              "}}\n",
              "\n",
              "                        })                };                            </script>        </div>\n",
              "</body>\n",
              "</html>"
            ]
          },
          "metadata": {}
        }
      ],
      "source": [
        "np.random.seed(1122)\n",
        "class_colors = [f'rgb{i}' for i in distinct_colors]\n",
        "np.random.shuffle(class_colors)\n",
        "node_colors = [class_colors[node_classes_unique.index(node_class)]\n",
        "               for node_class in node_classes]\n",
        "\n",
        "fig = go.Figure(data=[go.Sankey(\n",
        "    node=dict(\n",
        "      pad=15,\n",
        "      thickness=15,\n",
        "      line=dict(color='black', width=0.5),\n",
        "      label=node_classes,\n",
        "      color=node_colors\n",
        "    ),\n",
        "    link=dict(\n",
        "      source=links['source_node_index'],\n",
        "      target=links['target_node_index'],\n",
        "      value=links['count'],\n",
        "      label=links['count']\n",
        "))])\n",
        "fig.show()"
      ]
    },
    {
      "cell_type": "code",
      "source": [],
      "metadata": {
        "id": "nE627sigU5JB"
      },
      "id": "nE627sigU5JB",
      "execution_count": 10,
      "outputs": []
    }
  ],
  "metadata": {
    "kernelspec": {
      "display_name": "one-shot-learning",
      "language": "python",
      "name": "one-shot-learning"
    },
    "language_info": {
      "codemirror_mode": {
        "name": "ipython",
        "version": 3
      },
      "file_extension": ".py",
      "mimetype": "text/x-python",
      "name": "python",
      "nbconvert_exporter": "python",
      "pygments_lexer": "ipython3",
      "version": "3.7.0"
    },
    "colab": {
      "provenance": []
    },
    "accelerator": "GPU",
    "gpuClass": "standard"
  },
  "nbformat": 4,
  "nbformat_minor": 5
}
