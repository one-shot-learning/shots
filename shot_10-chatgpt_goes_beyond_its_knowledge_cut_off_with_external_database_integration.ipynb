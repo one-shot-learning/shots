{
 "cells": [
  {
   "cell_type": "code",
   "execution_count": 1,
   "id": "5004f476",
   "metadata": {},
   "outputs": [],
   "source": [
    "import requests\n",
    "import numpy as np\n",
    "import pandas as pd\n",
    "from bs4 import BeautifulSoup\n",
    "from tqdm import trange, tqdm\n",
    "import openai\n",
    "\n",
    "from datetime import datetime, timedelta"
   ]
  },
  {
   "cell_type": "code",
   "execution_count": 2,
   "id": "cca73a59",
   "metadata": {},
   "outputs": [],
   "source": [
    "def get_urls(date):\n",
    "    url = 'https://techcrunch.com/' + date.strftime('%Y/%m/%d')\n",
    "    content = requests.get(url).text\n",
    "    return [a['href'] for a in BeautifulSoup(content).find_all(\n",
    "        'a',\n",
    "        {'class': 'loop-card__title-link'}\n",
    "    )]"
   ]
  },
  {
   "cell_type": "code",
   "execution_count": 3,
   "id": "b468b90d",
   "metadata": {},
   "outputs": [
    {
     "name": "stderr",
     "output_type": "stream",
     "text": [
      "100%|███████████████████████████████████████████████████████████████████████████████████████████████████████████████████████████████████████████████████████████████████████████████████| 7/7 [00:13<00:00,  1.91s/it]\n"
     ]
    },
    {
     "data": {
      "text/plain": [
       "102"
      ]
     },
     "execution_count": 3,
     "metadata": {},
     "output_type": "execute_result"
    }
   ],
   "source": [
    "urls = sum([get_urls(datetime.now() - timedelta(days=i)) for i in trange(7)], [])\n",
    "len(urls)"
   ]
  },
  {
   "cell_type": "code",
   "execution_count": 4,
   "id": "4e68dbe3",
   "metadata": {},
   "outputs": [],
   "source": [
    "def get_article(url):\n",
    "    content = requests.get(url).text\n",
    "    article = BeautifulSoup(content).find_all('div', {'class': 'entry-content'})[0]\n",
    "    return [p.text for p in article.find_all('p', recursive=False)]"
   ]
  },
  {
   "cell_type": "code",
   "execution_count": 5,
   "id": "06dd45b5",
   "metadata": {
    "scrolled": true
   },
   "outputs": [
    {
     "name": "stderr",
     "output_type": "stream",
     "text": [
      "100%|███████████████████████████████████████████████████████████████████████████████████████████████████████████████████████████████████████████████████████████████████████████████| 102/102 [01:10<00:00,  1.44it/s]\n"
     ]
    }
   ],
   "source": [
    "articles = pd.DataFrame({\n",
    "    'url': urls,\n",
    "    'article': [get_article(url) for url in tqdm(urls)]\n",
    "})"
   ]
  },
  {
   "cell_type": "code",
   "execution_count": 6,
   "id": "9e6f207e",
   "metadata": {},
   "outputs": [
    {
     "data": {
      "text/html": [
       "<div>\n",
       "<style scoped>\n",
       "    .dataframe tbody tr th:only-of-type {\n",
       "        vertical-align: middle;\n",
       "    }\n",
       "\n",
       "    .dataframe tbody tr th {\n",
       "        vertical-align: top;\n",
       "    }\n",
       "\n",
       "    .dataframe thead th {\n",
       "        text-align: right;\n",
       "    }\n",
       "</style>\n",
       "<table border=\"1\" class=\"dataframe\">\n",
       "  <thead>\n",
       "    <tr style=\"text-align: right;\">\n",
       "      <th></th>\n",
       "      <th>url</th>\n",
       "      <th>paragraph</th>\n",
       "    </tr>\n",
       "  </thead>\n",
       "  <tbody>\n",
       "    <tr>\n",
       "      <th>0</th>\n",
       "      <td>https://techcrunch.com/2023/01/21/india-blocks...</td>\n",
       "      <td>The Indian government has ordered YouTube and ...</td>\n",
       "    </tr>\n",
       "    <tr>\n",
       "      <th>0</th>\n",
       "      <td>https://techcrunch.com/2023/01/21/india-blocks...</td>\n",
       "      <td>India’s Ministry of Information and Broadcasti...</td>\n",
       "    </tr>\n",
       "    <tr>\n",
       "      <th>0</th>\n",
       "      <td>https://techcrunch.com/2023/01/21/india-blocks...</td>\n",
       "      <td>The ministry issued the directions under the I...</td>\n",
       "    </tr>\n",
       "    <tr>\n",
       "      <th>0</th>\n",
       "      <td>https://techcrunch.com/2023/01/21/india-blocks...</td>\n",
       "      <td>Gupta called the BBC documentary a “hateful pr...</td>\n",
       "    </tr>\n",
       "    <tr>\n",
       "      <th>0</th>\n",
       "      <td>https://techcrunch.com/2023/01/21/india-blocks...</td>\n",
       "      <td>BBC aired the first episode of the two-part do...</td>\n",
       "    </tr>\n",
       "    <tr>\n",
       "      <th>...</th>\n",
       "      <td>...</td>\n",
       "      <td>...</td>\n",
       "    </tr>\n",
       "    <tr>\n",
       "      <th>101</th>\n",
       "      <td>https://techcrunch.com/2023/01/15/environmenta...</td>\n",
       "      <td>Historically, environmental health and safety ...</td>\n",
       "    </tr>\n",
       "    <tr>\n",
       "      <th>101</th>\n",
       "      <td>https://techcrunch.com/2023/01/15/environmenta...</td>\n",
       "      <td>EHS software acts as a data management system ...</td>\n",
       "    </tr>\n",
       "    <tr>\n",
       "      <th>101</th>\n",
       "      <td>https://techcrunch.com/2023/01/15/environmenta...</td>\n",
       "      <td>Verdantix’s Green Quadrant: EHS Software 2023 ...</td>\n",
       "    </tr>\n",
       "    <tr>\n",
       "      <th>101</th>\n",
       "      <td>https://techcrunch.com/2023/01/15/environmenta...</td>\n",
       "      <td>“Over the past two years, the market landscape...</td>\n",
       "    </tr>\n",
       "    <tr>\n",
       "      <th>101</th>\n",
       "      <td>https://techcrunch.com/2023/01/15/environmenta...</td>\n",
       "      <td>Per the Verdantix report, since ETF Partners i...</td>\n",
       "    </tr>\n",
       "  </tbody>\n",
       "</table>\n",
       "<p>1183 rows × 2 columns</p>\n",
       "</div>"
      ],
      "text/plain": [
       "                                                   url  \\\n",
       "0    https://techcrunch.com/2023/01/21/india-blocks...   \n",
       "0    https://techcrunch.com/2023/01/21/india-blocks...   \n",
       "0    https://techcrunch.com/2023/01/21/india-blocks...   \n",
       "0    https://techcrunch.com/2023/01/21/india-blocks...   \n",
       "0    https://techcrunch.com/2023/01/21/india-blocks...   \n",
       "..                                                 ...   \n",
       "101  https://techcrunch.com/2023/01/15/environmenta...   \n",
       "101  https://techcrunch.com/2023/01/15/environmenta...   \n",
       "101  https://techcrunch.com/2023/01/15/environmenta...   \n",
       "101  https://techcrunch.com/2023/01/15/environmenta...   \n",
       "101  https://techcrunch.com/2023/01/15/environmenta...   \n",
       "\n",
       "                                             paragraph  \n",
       "0    The Indian government has ordered YouTube and ...  \n",
       "0    India’s Ministry of Information and Broadcasti...  \n",
       "0    The ministry issued the directions under the I...  \n",
       "0    Gupta called the BBC documentary a “hateful pr...  \n",
       "0    BBC aired the first episode of the two-part do...  \n",
       "..                                                 ...  \n",
       "101  Historically, environmental health and safety ...  \n",
       "101  EHS software acts as a data management system ...  \n",
       "101  Verdantix’s Green Quadrant: EHS Software 2023 ...  \n",
       "101  “Over the past two years, the market landscape...  \n",
       "101  Per the Verdantix report, since ETF Partners i...  \n",
       "\n",
       "[1183 rows x 2 columns]"
      ]
     },
     "execution_count": 6,
     "metadata": {},
     "output_type": "execute_result"
    }
   ],
   "source": [
    "paragraphs = (\n",
    "    articles.explode('article')\n",
    "    .rename(columns={'article': 'paragraph'})\n",
    ")\n",
    "paragraphs = paragraphs[paragraphs['paragraph'].str.split().map(len) > 10]\n",
    "paragraphs"
   ]
  },
  {
   "cell_type": "code",
   "execution_count": 7,
   "id": "21835798",
   "metadata": {},
   "outputs": [],
   "source": [
    "with open('api_key', 'r') as f:\n",
    "    openai.api_key = f.read().strip()"
   ]
  },
  {
   "cell_type": "code",
   "execution_count": 8,
   "id": "1b030ffa",
   "metadata": {},
   "outputs": [],
   "source": [
    "def get_embedding(texts, model='text-embedding-ada-002'):\n",
    "    texts = [text.replace('\\n', ' ') for text in texts]\n",
    "    return [res['embedding'] for res in openai.Embedding.create(input=texts, model=model)['data']]"
   ]
  },
  {
   "cell_type": "code",
   "execution_count": 9,
   "id": "4080831f",
   "metadata": {},
   "outputs": [
    {
     "name": "stderr",
     "output_type": "stream",
     "text": [
      "100%|█████████████████████████████████████████████████████████████████████████████████████████████████████████████████████████████████████████████████████████████████████████████████| 12/12 [00:31<00:00,  2.61s/it]\n"
     ]
    }
   ],
   "source": [
    "batch_size = 100\n",
    "embeddings = []\n",
    "\n",
    "for i in trange(0, len(paragraphs), batch_size):\n",
    "    embeddings += get_embedding(paragraphs.iloc[i:i+batch_size]['paragraph'])"
   ]
  },
  {
   "cell_type": "code",
   "execution_count": 10,
   "id": "ea28681f",
   "metadata": {},
   "outputs": [],
   "source": [
    "paragraphs['embedding'] = embeddings"
   ]
  },
  {
   "cell_type": "code",
   "execution_count": 11,
   "id": "8b163981",
   "metadata": {},
   "outputs": [],
   "source": [
    "query = 'TODO'  # keep in mind we scraped only a sample of articles from the last week\n",
    "query_embedding = get_embedding([query])[0]"
   ]
  },
  {
   "cell_type": "code",
   "execution_count": null,
   "id": "fbccfc80",
   "metadata": {},
   "outputs": [],
   "source": [
    "best_idx = paragraphs['embedding'].map(\n",
    "    lambda emb: np.dot(emb, query_embedding) / (\n",
    "        np.linalg.norm(emb) * np.linalg.norm(query_embedding)\n",
    "    )\n",
    ").argmax()\n",
    "\n",
    "best_paragraph = paragraphs.iloc[best_idx]['paragraph']"
   ]
  },
  {
   "cell_type": "code",
   "execution_count": null,
   "id": "e2c5c4f5",
   "metadata": {},
   "outputs": [],
   "source": [
    "prompt = (\n",
    "    \"Here's a piece of text:\\n\" +\n",
    "    best_paragraph + '\\n\\n' +\n",
    "    'I have a question about this text: ' + query +\n",
    "    'Please answer in a concise manner'\n",
    ")\n",
    "\n",
    "print(prompt)"
   ]
  }
 ],
 "metadata": {
  "kernelspec": {
   "display_name": "Python 3 (ipykernel)",
   "language": "python",
   "name": "python3"
  },
  "language_info": {
   "codemirror_mode": {
    "name": "ipython",
    "version": 3
   },
   "file_extension": ".py",
   "mimetype": "text/x-python",
   "name": "python",
   "nbconvert_exporter": "python",
   "pygments_lexer": "ipython3",
   "version": "3.8.13"
  }
 },
 "nbformat": 4,
 "nbformat_minor": 5
}
