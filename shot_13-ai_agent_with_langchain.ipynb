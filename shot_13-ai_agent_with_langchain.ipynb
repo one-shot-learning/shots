{
 "cells": [
  {
   "cell_type": "code",
   "execution_count": 1,
   "id": "73b6bbca-6cfc-448b-9a40-cec169222f84",
   "metadata": {},
   "outputs": [],
   "source": [
    "import os\n",
    "\n",
    "from langchain.prompts import PromptTemplate\n",
    "from langchain.llms import OpenAI\n",
    "from langchain.chains import LLMChain\n",
    "from langchain.tools import Tool\n",
    "from langchain.agents import initialize_agent\n",
    "import requests\n",
    "from bs4 import BeautifulSoup"
   ]
  },
  {
   "cell_type": "code",
   "execution_count": 2,
   "id": "a8c75424-c4a5-423d-a89a-aef09364bcc2",
   "metadata": {},
   "outputs": [],
   "source": [
    "with open(\"api_key.txt\", \"r\") as f:\n",
    "    os.environ['OPENAI_API_KEY'] = f.read().strip()"
   ]
  },
  {
   "cell_type": "code",
   "execution_count": 3,
   "id": "413c30b5-400b-4ce3-beb9-c0265f61270d",
   "metadata": {},
   "outputs": [
    {
     "name": "stdout",
     "output_type": "stream",
     "text": [
      "\n",
      "Elon Musk is one of the world's most inspiring entrepreneurs 🤩 His pioneering spirit and dedication to innovation have made him a role model for so many. From launching rockets 🚀 to creating revolutionary electric cars 🔋, his ambitions have changed the world. #ElonMusk #innovator #entrepreneur\n"
     ]
    }
   ],
   "source": [
    "prompt_template = \"\"\"Write a LinkedIn post about {topic}, following these guidelines:\n",
    "- Make the post concise and appealing\n",
    "- Use emojis when suitable\n",
    "\"\"\"\n",
    "\n",
    "llm = OpenAI(temperature=0.7)\n",
    "llm_chain = LLMChain(\n",
    "    llm=llm,\n",
    "    prompt=PromptTemplate.from_template(prompt_template)\n",
    ")\n",
    "\n",
    "print(llm_chain('Elon Musk')['text'])    "
   ]
  },
  {
   "cell_type": "code",
   "execution_count": 4,
   "id": "718267a4-1bf1-4e98-bf36-23dc34bb7844",
   "metadata": {},
   "outputs": [],
   "source": [
    "def get_article(_):\n",
    "    url = 'https://techcrunch.com/2023/10/02/elon-musk-is-being-sued-for-defamation-after-falsely-claiming-a-man-was-a-neo-nazi-on-x/'\n",
    "    content = requests.get(url).text\n",
    "    article = BeautifulSoup(content).find_all('div', {'class': 'article-content'})[0]\n",
    "    return '\\n\\n'.join([p.text for p in article.find_all('p', recursive=False)])\n",
    "\n",
    "\n",
    "elon_musk_retriever = Tool.from_function(\n",
    "    func=get_article,\n",
    "    name='Elon Musk Article Retriever',\n",
    "    description='Useful when you want to retrieve an article about Elon Musk'\n",
    ")"
   ]
  },
  {
   "cell_type": "code",
   "execution_count": 5,
   "id": "583c0122-fc07-495c-8384-c16bce80ea17",
   "metadata": {},
   "outputs": [],
   "source": [
    "prompt_template = \"\"\"Write a LinkedIn post based on the following article. Use these guidelines:\n",
    "- Make the post concise and appealing\n",
    "- Use emojis when suitable\n",
    "\n",
    "{article}\n",
    "\"\"\"\n",
    "\n",
    "llm = OpenAI(temperature=0.7)\n",
    "llm_chain = LLMChain(\n",
    "    llm=llm,\n",
    "    prompt=PromptTemplate.from_template(prompt_template)\n",
    ")\n",
    "\n",
    "linkedin_post_writer = Tool.from_function(\n",
    "    func=lambda article: llm_chain(article)['text'],\n",
    "    name='LinkedIn Post Writer',\n",
    "    description='Useful when you want to write a LinkedIn post based on the given article.'\n",
    ")"
   ]
  },
  {
   "cell_type": "code",
   "execution_count": 6,
   "id": "6506631f-729e-41aa-8e39-cf731fcb4b8a",
   "metadata": {},
   "outputs": [
    {
     "name": "stdout",
     "output_type": "stream",
     "text": [
      "\n",
      "\n",
      "\u001b[1m> Entering new AgentExecutor chain...\u001b[0m\n",
      "\u001b[32;1m\u001b[1;3m I need to find an article about Elon Musk\n",
      "Action: Elon Musk Article Retriever\n",
      "Action Input: Elon Musk\u001b[0m\n",
      "Observation: \u001b[36;1m\u001b[1;3mElon Musk has been on something of a suing spree lately, but on Monday, Twitter’s new owner was hit with a fresh inbound lawsuit.\n",
      "\n",
      "The lawsuit alleges that Musk defamed a California man after the owner of X (formerly Twitter) claimed that the recent college graduate was a federal agent operating undercover with a neo-Nazi organization in the Pacific Northwest.\n",
      "\n",
      "Members of the group, known as the Rose City Nationalists, had their masks removed during a scuffle at an LGBTQ pride event in Oregon. When footage from the event appeared online, some X users incorrectly identified one of men involved in the incident as Benjamin Brody, a 22-year-old who belonged to a Jewish fraternity and previously remarked on the fraternity’s website that he wanted a job with the government.\n",
      "\n",
      "Musk amplified the false claims on X at the time, describing the incident — and Brody’s purported involvement — as a “probably false flag situation.” When Musk waded into the false conspiracy theory, his massive presence on the platform resulted in a deluge of hate toward Brody. According to the lawsuit, Brody and his family were “repeatedly doxed and suffered an enormous wave of harassment from belligerent strangers.”\n",
      "\n",
      "“Two weeks after Musk’s statements, it was apparent to Ben that his reputation had been catastrophically damaged and that a huge number of people believed he was either a neo-Nazi or a provocateur involved in a deceptive ‘psyop’ to commit political terrorism,” the lawsuit reads.\n",
      "\n",
      "This isn’t the first time Musk has been sued for defamation over careless and inflammatory remarks. British cave diver Vernon Unsworth sued Musk for calling him a “pedo guy” during a heated back-and-forth centered on the 2018 rescue operation to save kids trapped in a cave in Thailand. Musk ultimately triumphed in court in 2019.\n",
      "\n",
      "The lawsuit is being led by Mark Bankston, the same lawyer who famously took Alex Jones to task in court after the right-wing media figure spread Sandy Hook conspiracies for years. Jones lost a flurry of defamation cases and ultimately was ordered to pay the surviving families of Sandy Hook victims more than a billion dollars in damages.\n",
      "\n",
      "“Today, I am proud to announce I have filed suit against yet another notorious disseminator of false information: The owner of this platform, Elon Musk,” Bankston wrote in a long thread on X. “Musk will not stop until someone stops him. It seems that responsibility now falls upon a shy 22-year-old whose life has been shaken by Musk’s reckless conduct.”\u001b[0m\n",
      "Thought:\u001b[32;1m\u001b[1;3m I now have enough information to write a LinkedIn post\n",
      "Action: LinkedIn Post Writer\n",
      "Action Input: Elon Musk has been on something of a suing spree lately, but on Monday, Twitter’s new owner was hit with a fresh inbound lawsuit. The lawsuit alleges that Musk defamed a California man after the owner of X (formerly Twitter) claimed that the recent college graduate was a federal agent operating undercover with a neo-Nazi organization in the Pacific Northwest.\u001b[0m\n",
      "Observation: \u001b[33;1m\u001b[1;3m\n",
      "Elon Musk is being sued for defamation! 🤯 Unbelievable that he would make such a false claim against a recent college graduate who was an innocent bystander in the Pacific Northwest. 🤦‍♂️ #elonmusk #defamation #lawsuit\u001b[0m\n",
      "Thought:\u001b[32;1m\u001b[1;3m I now know the final answer\n",
      "Final Answer: Elon Musk is being sued for defamation! 🤯 Unbelievable that he would make such a false claim against a recent college graduate who was an innocent bystander in the Pacific Northwest. 🤦‍♂️ #elonmusk #defamation #lawsuit\u001b[0m\n",
      "\n",
      "\u001b[1m> Finished chain.\u001b[0m\n"
     ]
    },
    {
     "data": {
      "text/plain": [
       "'Elon Musk is being sued for defamation! 🤯 Unbelievable that he would make such a false claim against a recent college graduate who was an innocent bystander in the Pacific Northwest. 🤦\\u200d♂️ #elonmusk #defamation #lawsuit'"
      ]
     },
     "execution_count": 6,
     "metadata": {},
     "output_type": "execute_result"
    }
   ],
   "source": [
    "agent = initialize_agent(tools=[elon_musk_retriever, linkedin_post_writer],\n",
    "                         llm=OpenAI(temperature=0),\n",
    "                         verbose=True)\n",
    "\n",
    "agent.run('Please write a LinkedIn post about Elon Musk')"
   ]
  },
  {
   "cell_type": "code",
   "execution_count": 7,
   "id": "1c4ef17e-c9c3-4162-a598-7d17f784280c",
   "metadata": {},
   "outputs": [],
   "source": [
    "current_date_url = \"https://techcrunch.com/2023/10/02/\"\n",
    "\n",
    "def get_urls(topic):\n",
    "    content = requests.get(current_date_url).text\n",
    "    return \"\\n\\n\".join([a['href'] for a in BeautifulSoup(content).find_all(\n",
    "        'a',\n",
    "        {'class': 'post-block__title__link'}\n",
    "    ) if topic in a.text])\n",
    "\n",
    "topic_to_urls_tool = Tool.from_function(\n",
    "    func=get_urls,\n",
    "    name=\"Topic to URLs\",\n",
    "    description=\"Useful when urls are needed for a specific topic. You will be provided with a topic, and should return relevant urls\"\n",
    ")"
   ]
  },
  {
   "cell_type": "code",
   "execution_count": 8,
   "id": "77cfab07-ff5a-487e-beec-2d0a7459c59c",
   "metadata": {},
   "outputs": [],
   "source": [
    "def get_article(url):\n",
    "    content = requests.get(url).text\n",
    "    article = BeautifulSoup(content).find_all('div', {'class': 'article-content'})[0]\n",
    "    return '\\n\\n'.join([p.text for p in article.find_all('p', recursive=False)])\n",
    "\n",
    "\n",
    "url_to_article_tool = Tool.from_function(\n",
    "    func=get_article,\n",
    "    name='URL to Article',\n",
    "    description='Useful when you want to retrieve an article from a url. You will be given a url and should return the article'\n",
    ")"
   ]
  },
  {
   "cell_type": "code",
   "execution_count": 9,
   "id": "717bd7dc-f1ec-4019-86f2-5532dca06870",
   "metadata": {},
   "outputs": [],
   "source": [
    "agent = initialize_agent(tools=[topic_to_urls_tool, url_to_article_tool, linkedin_post_writer],\n",
    "                         llm=OpenAI(temperature=0),\n",
    "                         verbose=True)"
   ]
  },
  {
   "cell_type": "code",
   "execution_count": 10,
   "id": "a4981887-bdca-4bef-93ce-9c7e0fa8da69",
   "metadata": {},
   "outputs": [
    {
     "name": "stdout",
     "output_type": "stream",
     "text": [
      "\n",
      "\n",
      "\u001b[1m> Entering new AgentExecutor chain...\u001b[0m\n",
      "\u001b[32;1m\u001b[1;3m I need to find an article about Tesla\n",
      "Action: Topic to URLs\n",
      "Action Input: Tesla\u001b[0m\n",
      "Observation: \u001b[36;1m\u001b[1;3mhttps://techcrunch.com/2023/10/02/tesla-autopilot-arbitration-win-could-set-legal-benchmark-in-auto-industry/\u001b[0m\n",
      "Thought:\u001b[32;1m\u001b[1;3m I need to retrieve the article from the URL\n",
      "Action: URL to Article\n",
      "Action Input: https://techcrunch.com/2023/10/02/tesla-autopilot-arbitration-win-could-set-legal-benchmark-in-auto-industry/\u001b[0m\n",
      "Observation: \u001b[33;1m\u001b[1;3mIn a victory for Tesla, a California federal judge ruled over the weekend that a group of Tesla owners cannot pursue in court claims that the company falsely advertised its automated features. Instead, they will have to face individual arbitration.\n",
      "\n",
      "U.S. District Judge Haywood Gilliam’s ruling isn’t a win for the defensibility of Tesla’s advanced driver assistance systems, Autopilot and Full Self-Driving (FSD), but simply for Tesla’s terms and conditions. The plaintiffs who filed the proposed class action in September 2022 did in fact agree to arbitrate any legal claims against the company when they signed on the dotted line, according to the judge. They had 30 days to opt out, and none chose to do so.\n",
      "\n",
      "Forced arbitration has been a stalwart partner in the tech industry. Tesla’s success in dodging a class action lawsuit could encourage other automakers to lean more heavily on this tactic.\n",
      "\n",
      "“In some respects, it probably does put down a marker that these types of claims will likely face these types of challenges,” Ryan Koppelman, partner at law firm Alston & Bird, told TechCrunch.\n",
      "\n",
      "Koppelman noted that arbitration is a common legal strategy used by companies to avoid individual claims and class actions like this one.\n",
      "\n",
      "In this specific case, a fifth plaintiff did opt out of arbitration, but Judge Gilliam ruled to dismiss their claims, as they waited too long to sue, according to court documents.\n",
      "\n",
      "“The statue of limitation aspect is interesting because the claims at issue here had to do with what the Tesla products will be capable of in the future, as well as what they were supposedly capable of at the time of sale,” said Koppelman.\n",
      "\n",
      "The plaintiffs in the case all claimed to have spent thousands of dollars on unreliable and dangerous technology that has caused accidents, some resulting in death. Tesla has denied wrongdoing and moved to send the claims to arbitration, after citing the plaintiffs’ acceptance of the arbitration agreement.\n",
      "\n",
      "Judge Gilliam also denied the plaintiffs’ motion for preliminary injunction “prohibiting the defendant from continuing to engage in its allegedly illegal and deceptive practices.” In effect, the plaintiffs asked the court to force Tesla to stop marketing their ADAS as providing “full self-driving capability”; to stop selling and de-activate their FSD beta software; and to alert all customers that Tesla’s use of terms like “full self-driving capability,” “self-driving” and “autonomous” to describe the ADAS technology was inaccurate.\n",
      "\n",
      "The original complaint, filed in September 2022, alleged that Tesla and its CEO Elon Musk have been deceitfully advertising its automated driving features as either fully functioning or close to being “solved” since 2016, despite knowing full well that the capabilities of Autopilot and FSD don’t live up to the hype.\n",
      "\n",
      "The plaintiffs alleged that Tesla’s ADAS cause vehicles to run red lights, miss turns and veer into traffic, all the while costing Tesla owners thousands of dollars.\n",
      "\n",
      "Briggs Matsko, the named plaintiff in the lawsuit, said he paid $5,000 for his 2018 Tesla Model X to get Enhanced Autopilot. Tesla’s FSD costs an additional $12,000.\n",
      "\n",
      "The failed class action isn’t the only time Tesla’s so-called self-driving technology has come under scrutiny. Earlier this year, Musk was found to have overseen a 2016 video that overstated the capabilities of Autopilot.\n",
      "\n",
      "The revelation came from a deposition from a senior engineer taken as evidence in a lawsuit against Tesla for a fatal 2018 crash involving former Apple engineer Walter Huang. The lawsuit alleges that errors by Autopilot, and Huang’s misplaced trust in the capabilities of the system, caused the crash.\u001b[0m\n",
      "Thought:\u001b[32;1m\u001b[1;3m I now need to write a LinkedIn post based on the article\n",
      "Action: LinkedIn Post Writer\n",
      "Action Input: Article about Tesla\u001b[0m\n",
      "Observation: \u001b[38;5;200m\u001b[1;3m\n",
      "Tesla is revolutionizing the electric vehicle industry with its innovative technology and cutting-edge design. 🚗 The company is setting a new standard for the future of transportation! 🔋 #EVs #Innovation #FutureOfTransportation\u001b[0m\n",
      "Thought:\u001b[32;1m\u001b[1;3m I now know the final answer\n",
      "Final Answer: Tesla is revolutionizing the electric vehicle industry with its innovative technology and cutting-edge design. 🚗 The company is setting a new standard for the future of transportation! 🔋 #EVs #Innovation #FutureOfTransportation\u001b[0m\n",
      "\n",
      "\u001b[1m> Finished chain.\u001b[0m\n"
     ]
    },
    {
     "data": {
      "text/plain": [
       "'Tesla is revolutionizing the electric vehicle industry with its innovative technology and cutting-edge design. 🚗 The company is setting a new standard for the future of transportation! 🔋 #EVs #Innovation #FutureOfTransportation'"
      ]
     },
     "execution_count": 11,
     "metadata": {},
     "output_type": "execute_result"
    }
   ],
   "source": [
    "agent.run(\"Please write a LinkedIn post about Tesla\")"
   ]
  }
 ],
 "metadata": {
  "kernelspec": {
   "display_name": "Python 3 (ipykernel)",
   "language": "python",
   "name": "python3"
  },
  "language_info": {
   "codemirror_mode": {
    "name": "ipython",
    "version": 3
   },
   "file_extension": ".py",
   "mimetype": "text/x-python",
   "name": "python",
   "nbconvert_exporter": "python",
   "pygments_lexer": "ipython3",
   "version": "3.8.13"
  }
 },
 "nbformat": 4,
 "nbformat_minor": 5
}
