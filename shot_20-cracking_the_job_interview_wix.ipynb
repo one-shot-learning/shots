{
  "nbformat": 4,
  "nbformat_minor": 0,
  "metadata": {
    "colab": {
      "provenance": []
    },
    "kernelspec": {
      "name": "python3",
      "display_name": "Python 3"
    },
    "language_info": {
      "name": "python"
    }
  },
  "cells": [
    {
      "cell_type": "code",
      "source": [
        "import numpy as np\n",
        "import pandas as pd\n",
        "import seaborn as sns\n",
        "from bs4 import BeautifulSoup\n",
        "from tqdm import trange, tqdm\n",
        "import time\n",
        "import functools\n",
        "from google.colab import drive\n",
        "from google.colab import userdata\n",
        "from openai import OpenAI\n",
        "from google import genai\n",
        "from pydantic import BaseModel, TypeAdapter\n",
        "\n",
        "tqdm.pandas()"
      ],
      "metadata": {
        "id": "ll_UPLducECq"
      },
      "execution_count": null,
      "outputs": []
    },
    {
      "cell_type": "code",
      "source": [
        "drive.mount('/content/drive')"
      ],
      "metadata": {
        "colab": {
          "base_uri": "https://localhost:8080/"
        },
        "id": "GTDehmisdS85",
        "outputId": "f9271cf1-1e1e-42e9-8975-8a1eb6773511"
      },
      "execution_count": null,
      "outputs": [
        {
          "output_type": "stream",
          "name": "stdout",
          "text": [
            "Mounted at /content/drive\n"
          ]
        }
      ]
    },
    {
      "cell_type": "code",
      "source": [
        "df_articles = pd.read_json(\"/content/drive/MyDrive/kb_bookings_en_20240614.json\")\n",
        "\n",
        "df_articles['article'] = df_articles['html_content'].apply(\n",
        "    lambda html: BeautifulSoup(html).get_text()\n",
        ")\n",
        "\n",
        "df_articles['article'] = 'Title: ' + df_articles['title'] + '\\n' + df_articles['article']\n",
        "df_articles = df_articles[['article_id', 'article']]\n",
        "\n",
        "df_articles.shape"
      ],
      "metadata": {
        "colab": {
          "base_uri": "https://localhost:8080/"
        },
        "id": "VRx9TgKSdYnU",
        "outputId": "5165643f-0887-452a-b6bb-172ff442a0d8"
      },
      "execution_count": null,
      "outputs": [
        {
          "output_type": "execute_result",
          "data": {
            "text/plain": [
              "(303, 2)"
            ]
          },
          "metadata": {},
          "execution_count": 15
        }
      ]
    },
    {
      "cell_type": "code",
      "source": [
        "df_qa = pd.read_json(\"/content/drive/MyDrive/bookings_train.json\")\n",
        "\n",
        "df_qa = df_qa[['question', 'article_ids']]\n",
        "\n",
        "df_qa.shape"
      ],
      "metadata": {
        "colab": {
          "base_uri": "https://localhost:8080/"
        },
        "id": "2CF4X4TvebWT",
        "outputId": "2d719433-d8d5-4e8e-c321-21230d1a6f9d"
      },
      "execution_count": null,
      "outputs": [
        {
          "output_type": "execute_result",
          "data": {
            "text/plain": [
              "(150, 2)"
            ]
          },
          "metadata": {},
          "execution_count": 18
        }
      ]
    },
    {
      "cell_type": "code",
      "source": [
        "openai_client = OpenAI(api_key=userdata.get('openai_api_key'))\n",
        "\n",
        "\n",
        "def get_embeddings(texts, model=\"text-embedding-3-small\", batch_size=100):\n",
        "    texts = [text.replace(\"\\n\", \" \") for text in texts]\n",
        "    embeddings = []\n",
        "    for idx in trange(0, len(texts), batch_size):\n",
        "      batch = texts[idx:idx + batch_size]\n",
        "      response = openai_client.embeddings.create(input=batch, model=model).data\n",
        "      embeddings += [res.embedding for res in response]\n",
        "    return embeddings"
      ],
      "metadata": {
        "id": "f3Cy-s-DesPU"
      },
      "execution_count": null,
      "outputs": []
    },
    {
      "cell_type": "code",
      "source": [
        "df_articles['article_embedding'] = get_embeddings(df_articles['article'])"
      ],
      "metadata": {
        "colab": {
          "base_uri": "https://localhost:8080/"
        },
        "id": "pQ18wX8ceeUf",
        "outputId": "9a9846c1-3213-4806-ea50-d6d4f06a0c3c"
      },
      "execution_count": null,
      "outputs": [
        {
          "output_type": "stream",
          "name": "stderr",
          "text": [
            "100%|██████████| 4/4 [00:05<00:00,  1.48s/it]\n"
          ]
        }
      ]
    },
    {
      "cell_type": "code",
      "source": [
        "df_qa['question_embedding'] = get_embeddings(df_qa['question'])"
      ],
      "metadata": {
        "colab": {
          "base_uri": "https://localhost:8080/"
        },
        "id": "PF90GQWgf2yT",
        "outputId": "05361fba-41ac-40b6-8a09-030a7690e053"
      },
      "execution_count": null,
      "outputs": [
        {
          "output_type": "stream",
          "name": "stderr",
          "text": [
            "100%|██████████| 2/2 [00:01<00:00,  1.17it/s]\n"
          ]
        }
      ]
    },
    {
      "cell_type": "code",
      "source": [
        "def embedding_similarity(emb1, emb2):\n",
        "  return np.dot(emb1, emb2) / (np.linalg.norm(emb1) * np.linalg.norm(emb2))\n",
        "\n",
        "\n",
        "def rank_similar_articles(question_embedding, df, emb_col):\n",
        "  sorted_indices = df[emb_col].apply(\n",
        "      lambda article_emb: embedding_similarity(\n",
        "          question_embedding,\n",
        "          article_emb\n",
        "      )\n",
        "  ).argsort()\n",
        "\n",
        "  return (\n",
        "      df['article_id']\n",
        "      .iloc[sorted_indices]\n",
        "      .iloc[::-1]\n",
        "      .tolist()\n",
        "  )"
      ],
      "metadata": {
        "id": "jrWGVRnsgB1h"
      },
      "execution_count": null,
      "outputs": []
    },
    {
      "cell_type": "code",
      "source": [
        "df_qa['pred_by_article'] = df_qa['question_embedding'].progress_apply(\n",
        "    lambda q_emb: rank_similar_articles(q_emb, df_articles, 'article_embedding')\n",
        ")"
      ],
      "metadata": {
        "colab": {
          "base_uri": "https://localhost:8080/",
          "height": 192
        },
        "id": "brcZOj92g-sY",
        "outputId": "a1334b84-a614-4fde-e5f9-efa46f580a2b"
      },
      "execution_count": null,
      "outputs": [
        {
          "output_type": "stream",
          "name": "stderr",
          "text": [
            "100%|██████████| 150/150 [00:24<00:00,  6.11it/s]\n"
          ]
        },
        {
          "output_type": "execute_result",
          "data": {
            "text/plain": [
              "                                                                    0  \\\n",
              "question            How can I send my staff a link to have access ...   \n",
              "article_ids                    [7cf22cc7-74d0-4829-985f-5b452059602c]   \n",
              "question_embedding  [-0.019442876800894737, 0.013069139793515205, ...   \n",
              "pred_by_article     [7cf22cc7-74d0-4829-985f-5b452059602c, 66032bc...   \n",
              "\n",
              "                                                                    1  \n",
              "question            How can I remove the phone number field from m...  \n",
              "article_ids                    [49cd4cf1-f219-4f8c-97eb-c33d8ee4262e]  \n",
              "question_embedding  [-0.02094968780875206, 0.02548030950129032, -0...  \n",
              "pred_by_article     [e0df5986-7ba4-4f05-a934-e4e701d6793c, 79010a2...  "
            ],
            "text/html": [
              "\n",
              "  <div id=\"df-8d30324b-f452-4bda-86ac-e4f112a25500\" class=\"colab-df-container\">\n",
              "    <div>\n",
              "<style scoped>\n",
              "    .dataframe tbody tr th:only-of-type {\n",
              "        vertical-align: middle;\n",
              "    }\n",
              "\n",
              "    .dataframe tbody tr th {\n",
              "        vertical-align: top;\n",
              "    }\n",
              "\n",
              "    .dataframe thead th {\n",
              "        text-align: right;\n",
              "    }\n",
              "</style>\n",
              "<table border=\"1\" class=\"dataframe\">\n",
              "  <thead>\n",
              "    <tr style=\"text-align: right;\">\n",
              "      <th></th>\n",
              "      <th>0</th>\n",
              "      <th>1</th>\n",
              "    </tr>\n",
              "  </thead>\n",
              "  <tbody>\n",
              "    <tr>\n",
              "      <th>question</th>\n",
              "      <td>How can I send my staff a link to have access ...</td>\n",
              "      <td>How can I remove the phone number field from m...</td>\n",
              "    </tr>\n",
              "    <tr>\n",
              "      <th>article_ids</th>\n",
              "      <td>[7cf22cc7-74d0-4829-985f-5b452059602c]</td>\n",
              "      <td>[49cd4cf1-f219-4f8c-97eb-c33d8ee4262e]</td>\n",
              "    </tr>\n",
              "    <tr>\n",
              "      <th>question_embedding</th>\n",
              "      <td>[-0.019442876800894737, 0.013069139793515205, ...</td>\n",
              "      <td>[-0.02094968780875206, 0.02548030950129032, -0...</td>\n",
              "    </tr>\n",
              "    <tr>\n",
              "      <th>pred_by_article</th>\n",
              "      <td>[7cf22cc7-74d0-4829-985f-5b452059602c, 66032bc...</td>\n",
              "      <td>[e0df5986-7ba4-4f05-a934-e4e701d6793c, 79010a2...</td>\n",
              "    </tr>\n",
              "  </tbody>\n",
              "</table>\n",
              "</div>\n",
              "    <div class=\"colab-df-buttons\">\n",
              "\n",
              "  <div class=\"colab-df-container\">\n",
              "    <button class=\"colab-df-convert\" onclick=\"convertToInteractive('df-8d30324b-f452-4bda-86ac-e4f112a25500')\"\n",
              "            title=\"Convert this dataframe to an interactive table.\"\n",
              "            style=\"display:none;\">\n",
              "\n",
              "  <svg xmlns=\"http://www.w3.org/2000/svg\" height=\"24px\" viewBox=\"0 -960 960 960\">\n",
              "    <path d=\"M120-120v-720h720v720H120Zm60-500h600v-160H180v160Zm220 220h160v-160H400v160Zm0 220h160v-160H400v160ZM180-400h160v-160H180v160Zm440 0h160v-160H620v160ZM180-180h160v-160H180v160Zm440 0h160v-160H620v160Z\"/>\n",
              "  </svg>\n",
              "    </button>\n",
              "\n",
              "  <style>\n",
              "    .colab-df-container {\n",
              "      display:flex;\n",
              "      gap: 12px;\n",
              "    }\n",
              "\n",
              "    .colab-df-convert {\n",
              "      background-color: #E8F0FE;\n",
              "      border: none;\n",
              "      border-radius: 50%;\n",
              "      cursor: pointer;\n",
              "      display: none;\n",
              "      fill: #1967D2;\n",
              "      height: 32px;\n",
              "      padding: 0 0 0 0;\n",
              "      width: 32px;\n",
              "    }\n",
              "\n",
              "    .colab-df-convert:hover {\n",
              "      background-color: #E2EBFA;\n",
              "      box-shadow: 0px 1px 2px rgba(60, 64, 67, 0.3), 0px 1px 3px 1px rgba(60, 64, 67, 0.15);\n",
              "      fill: #174EA6;\n",
              "    }\n",
              "\n",
              "    .colab-df-buttons div {\n",
              "      margin-bottom: 4px;\n",
              "    }\n",
              "\n",
              "    [theme=dark] .colab-df-convert {\n",
              "      background-color: #3B4455;\n",
              "      fill: #D2E3FC;\n",
              "    }\n",
              "\n",
              "    [theme=dark] .colab-df-convert:hover {\n",
              "      background-color: #434B5C;\n",
              "      box-shadow: 0px 1px 3px 1px rgba(0, 0, 0, 0.15);\n",
              "      filter: drop-shadow(0px 1px 2px rgba(0, 0, 0, 0.3));\n",
              "      fill: #FFFFFF;\n",
              "    }\n",
              "  </style>\n",
              "\n",
              "    <script>\n",
              "      const buttonEl =\n",
              "        document.querySelector('#df-8d30324b-f452-4bda-86ac-e4f112a25500 button.colab-df-convert');\n",
              "      buttonEl.style.display =\n",
              "        google.colab.kernel.accessAllowed ? 'block' : 'none';\n",
              "\n",
              "      async function convertToInteractive(key) {\n",
              "        const element = document.querySelector('#df-8d30324b-f452-4bda-86ac-e4f112a25500');\n",
              "        const dataTable =\n",
              "          await google.colab.kernel.invokeFunction('convertToInteractive',\n",
              "                                                    [key], {});\n",
              "        if (!dataTable) return;\n",
              "\n",
              "        const docLinkHtml = 'Like what you see? Visit the ' +\n",
              "          '<a target=\"_blank\" href=https://colab.research.google.com/notebooks/data_table.ipynb>data table notebook</a>'\n",
              "          + ' to learn more about interactive tables.';\n",
              "        element.innerHTML = '';\n",
              "        dataTable['output_type'] = 'display_data';\n",
              "        await google.colab.output.renderOutput(dataTable, element);\n",
              "        const docLink = document.createElement('div');\n",
              "        docLink.innerHTML = docLinkHtml;\n",
              "        element.appendChild(docLink);\n",
              "      }\n",
              "    </script>\n",
              "  </div>\n",
              "\n",
              "\n",
              "<div id=\"df-48672dd5-2584-4459-843f-a9e68d1cf263\">\n",
              "  <button class=\"colab-df-quickchart\" onclick=\"quickchart('df-48672dd5-2584-4459-843f-a9e68d1cf263')\"\n",
              "            title=\"Suggest charts\"\n",
              "            style=\"display:none;\">\n",
              "\n",
              "<svg xmlns=\"http://www.w3.org/2000/svg\" height=\"24px\"viewBox=\"0 0 24 24\"\n",
              "     width=\"24px\">\n",
              "    <g>\n",
              "        <path d=\"M19 3H5c-1.1 0-2 .9-2 2v14c0 1.1.9 2 2 2h14c1.1 0 2-.9 2-2V5c0-1.1-.9-2-2-2zM9 17H7v-7h2v7zm4 0h-2V7h2v10zm4 0h-2v-4h2v4z\"/>\n",
              "    </g>\n",
              "</svg>\n",
              "  </button>\n",
              "\n",
              "<style>\n",
              "  .colab-df-quickchart {\n",
              "      --bg-color: #E8F0FE;\n",
              "      --fill-color: #1967D2;\n",
              "      --hover-bg-color: #E2EBFA;\n",
              "      --hover-fill-color: #174EA6;\n",
              "      --disabled-fill-color: #AAA;\n",
              "      --disabled-bg-color: #DDD;\n",
              "  }\n",
              "\n",
              "  [theme=dark] .colab-df-quickchart {\n",
              "      --bg-color: #3B4455;\n",
              "      --fill-color: #D2E3FC;\n",
              "      --hover-bg-color: #434B5C;\n",
              "      --hover-fill-color: #FFFFFF;\n",
              "      --disabled-bg-color: #3B4455;\n",
              "      --disabled-fill-color: #666;\n",
              "  }\n",
              "\n",
              "  .colab-df-quickchart {\n",
              "    background-color: var(--bg-color);\n",
              "    border: none;\n",
              "    border-radius: 50%;\n",
              "    cursor: pointer;\n",
              "    display: none;\n",
              "    fill: var(--fill-color);\n",
              "    height: 32px;\n",
              "    padding: 0;\n",
              "    width: 32px;\n",
              "  }\n",
              "\n",
              "  .colab-df-quickchart:hover {\n",
              "    background-color: var(--hover-bg-color);\n",
              "    box-shadow: 0 1px 2px rgba(60, 64, 67, 0.3), 0 1px 3px 1px rgba(60, 64, 67, 0.15);\n",
              "    fill: var(--button-hover-fill-color);\n",
              "  }\n",
              "\n",
              "  .colab-df-quickchart-complete:disabled,\n",
              "  .colab-df-quickchart-complete:disabled:hover {\n",
              "    background-color: var(--disabled-bg-color);\n",
              "    fill: var(--disabled-fill-color);\n",
              "    box-shadow: none;\n",
              "  }\n",
              "\n",
              "  .colab-df-spinner {\n",
              "    border: 2px solid var(--fill-color);\n",
              "    border-color: transparent;\n",
              "    border-bottom-color: var(--fill-color);\n",
              "    animation:\n",
              "      spin 1s steps(1) infinite;\n",
              "  }\n",
              "\n",
              "  @keyframes spin {\n",
              "    0% {\n",
              "      border-color: transparent;\n",
              "      border-bottom-color: var(--fill-color);\n",
              "      border-left-color: var(--fill-color);\n",
              "    }\n",
              "    20% {\n",
              "      border-color: transparent;\n",
              "      border-left-color: var(--fill-color);\n",
              "      border-top-color: var(--fill-color);\n",
              "    }\n",
              "    30% {\n",
              "      border-color: transparent;\n",
              "      border-left-color: var(--fill-color);\n",
              "      border-top-color: var(--fill-color);\n",
              "      border-right-color: var(--fill-color);\n",
              "    }\n",
              "    40% {\n",
              "      border-color: transparent;\n",
              "      border-right-color: var(--fill-color);\n",
              "      border-top-color: var(--fill-color);\n",
              "    }\n",
              "    60% {\n",
              "      border-color: transparent;\n",
              "      border-right-color: var(--fill-color);\n",
              "    }\n",
              "    80% {\n",
              "      border-color: transparent;\n",
              "      border-right-color: var(--fill-color);\n",
              "      border-bottom-color: var(--fill-color);\n",
              "    }\n",
              "    90% {\n",
              "      border-color: transparent;\n",
              "      border-bottom-color: var(--fill-color);\n",
              "    }\n",
              "  }\n",
              "</style>\n",
              "\n",
              "  <script>\n",
              "    async function quickchart(key) {\n",
              "      const quickchartButtonEl =\n",
              "        document.querySelector('#' + key + ' button');\n",
              "      quickchartButtonEl.disabled = true;  // To prevent multiple clicks.\n",
              "      quickchartButtonEl.classList.add('colab-df-spinner');\n",
              "      try {\n",
              "        const charts = await google.colab.kernel.invokeFunction(\n",
              "            'suggestCharts', [key], {});\n",
              "      } catch (error) {\n",
              "        console.error('Error during call to suggestCharts:', error);\n",
              "      }\n",
              "      quickchartButtonEl.classList.remove('colab-df-spinner');\n",
              "      quickchartButtonEl.classList.add('colab-df-quickchart-complete');\n",
              "    }\n",
              "    (() => {\n",
              "      let quickchartButtonEl =\n",
              "        document.querySelector('#df-48672dd5-2584-4459-843f-a9e68d1cf263 button');\n",
              "      quickchartButtonEl.style.display =\n",
              "        google.colab.kernel.accessAllowed ? 'block' : 'none';\n",
              "    })();\n",
              "  </script>\n",
              "</div>\n",
              "\n",
              "    </div>\n",
              "  </div>\n"
            ],
            "application/vnd.google.colaboratory.intrinsic+json": {
              "type": "dataframe",
              "variable_name": "df_qa",
              "summary": "{\n  \"name\": \"df_qa\",\n  \"rows\": 150,\n  \"fields\": [\n    {\n      \"column\": \"question\",\n      \"properties\": {\n        \"dtype\": \"string\",\n        \"num_unique_values\": 150,\n        \"samples\": [\n          \"How can I activate SMS text reminders for my clients when they book an appointment?\",\n          \"I am offering training classes and I am not sure how to best set it up for registration payment. Can you guide me through the process?\",\n          \"How can I change the email address from which booking confirmation emails are sent to my clients?\"\n        ],\n        \"semantic_type\": \"\",\n        \"description\": \"\"\n      }\n    },\n    {\n      \"column\": \"article_ids\",\n      \"properties\": {\n        \"dtype\": \"object\",\n        \"semantic_type\": \"\",\n        \"description\": \"\"\n      }\n    },\n    {\n      \"column\": \"question_embedding\",\n      \"properties\": {\n        \"dtype\": \"object\",\n        \"semantic_type\": \"\",\n        \"description\": \"\"\n      }\n    },\n    {\n      \"column\": \"pred_by_article\",\n      \"properties\": {\n        \"dtype\": \"object\",\n        \"semantic_type\": \"\",\n        \"description\": \"\"\n      }\n    }\n  ]\n}"
            }
          },
          "metadata": {},
          "execution_count": 36
        }
      ]
    },
    {
      "cell_type": "code",
      "source": [
        "def plot_recall(col_name):\n",
        "  ans = []\n",
        "  for k in range(1, 20):\n",
        "    ans.append(\n",
        "        df_qa.apply(\n",
        "            lambda row: (\n",
        "                len(set(row['article_ids']) & set(row[col_name][:k]))\n",
        "            ) / len(row['article_ids']),\n",
        "            axis=1\n",
        "        ).mean()\n",
        "      )\n",
        "  sns.lineplot(ans, label=col_name)\n",
        "\n",
        "\n",
        "plot_recall('pred_by_article')"
      ],
      "metadata": {
        "colab": {
          "base_uri": "https://localhost:8080/",
          "height": 430
        },
        "id": "Xva5VG9yiegW",
        "outputId": "6e22a1d8-f756-4f26-bf12-5a6a5b635a56"
      },
      "execution_count": null,
      "outputs": [
        {
          "output_type": "display_data",
          "data": {
            "text/plain": [
              "<Figure size 640x480 with 1 Axes>"
            ],
            "image/png": "[encoded data removed]"
          },
          "metadata": {}
        }
      ]
    },
    {
      "cell_type": "code",
      "source": [
        "df_chunks = df_articles.assign(chunk=df_articles['article'].str.split('\\n'))\n",
        "df_chunks = df_chunks.explode('chunk')\n",
        "df_chunks['chunk'] = df_chunks['chunk'].str.strip()\n",
        "df_chunks = df_chunks[df_chunks['chunk'].map(len) > 0]\n",
        "df_chunks"
      ],
      "metadata": {
        "colab": {
          "base_uri": "https://localhost:8080/",
          "height": 597
        },
        "id": "8pnQfti5iy18",
        "outputId": "62d6e870-4971-405a-8e12-5a56c453a776"
      },
      "execution_count": null,
      "outputs": [
        {
          "output_type": "execute_result",
          "data": {
            "text/plain": [
              "                               article_id  \\\n",
              "0    1dd6b844-d788-48f9-aeed-5437be451bcb   \n",
              "0    1dd6b844-d788-48f9-aeed-5437be451bcb   \n",
              "0    1dd6b844-d788-48f9-aeed-5437be451bcb   \n",
              "0    1dd6b844-d788-48f9-aeed-5437be451bcb   \n",
              "0    1dd6b844-d788-48f9-aeed-5437be451bcb   \n",
              "..                                    ...   \n",
              "302  741cfafa-a51b-4d3c-9a81-61ee3f684046   \n",
              "302  741cfafa-a51b-4d3c-9a81-61ee3f684046   \n",
              "302  741cfafa-a51b-4d3c-9a81-61ee3f684046   \n",
              "302  741cfafa-a51b-4d3c-9a81-61ee3f684046   \n",
              "302  741cfafa-a51b-4d3c-9a81-61ee3f684046   \n",
              "\n",
              "                                               article  \\\n",
              "0    Title: Wix Bookings: Scheduling Your Courses\\n...   \n",
              "0    Title: Wix Bookings: Scheduling Your Courses\\n...   \n",
              "0    Title: Wix Bookings: Scheduling Your Courses\\n...   \n",
              "0    Title: Wix Bookings: Scheduling Your Courses\\n...   \n",
              "0    Title: Wix Bookings: Scheduling Your Courses\\n...   \n",
              "..                                                 ...   \n",
              "302  Title: Setting Up Tax Calculation Using the Ma...   \n",
              "302  Title: Setting Up Tax Calculation Using the Ma...   \n",
              "302  Title: Setting Up Tax Calculation Using the Ma...   \n",
              "302  Title: Setting Up Tax Calculation Using the Ma...   \n",
              "302  Title: Setting Up Tax Calculation Using the Ma...   \n",
              "\n",
              "                                     article_embedding  \\\n",
              "0    [-0.03931708261370659, 0.013251065276563168, 0...   \n",
              "0    [-0.03931708261370659, 0.013251065276563168, 0...   \n",
              "0    [-0.03931708261370659, 0.013251065276563168, 0...   \n",
              "0    [-0.03931708261370659, 0.013251065276563168, 0...   \n",
              "0    [-0.03931708261370659, 0.013251065276563168, 0...   \n",
              "..                                                 ...   \n",
              "302  [-0.047325726598501205, 0.009194145910441875, ...   \n",
              "302  [-0.047325726598501205, 0.009194145910441875, ...   \n",
              "302  [-0.047325726598501205, 0.009194145910441875, ...   \n",
              "302  [-0.047325726598501205, 0.009194145910441875, ...   \n",
              "302  [-0.047325726598501205, 0.009194145910441875, ...   \n",
              "\n",
              "                                                 chunk  \n",
              "0         Title: Wix Bookings: Scheduling Your Courses  \n",
              "0    Schedule your sessions exactly when you want -...  \n",
              "0    Go to the Booking Calendar tab in your site's ...  \n",
              "0    Course: Select the course you want to schedule...  \n",
              "0    Note: Select Custom to enter a custom duration...  \n",
              "..                                                 ...  \n",
              "302  Tax should be added at checkout: For example, ...  \n",
              "302  Tax is already included in my prices: For exam...  \n",
              "302  Step 5 | (Optional) Create tax groupsNote:Tax ...  \n",
              "302  To manage tax for an entire country, leave the...  \n",
              "302  Alabama Alaska (only certain parts of Alaska a...  \n",
              "\n",
              "[2939 rows x 4 columns]"
            ],
            "text/html": [
              "\n",
              "  <div id=\"df-f755ffb7-90f4-4636-82ec-55d1b80cef74\" class=\"colab-df-container\">\n",
              "    <div>\n",
              "<style scoped>\n",
              "    .dataframe tbody tr th:only-of-type {\n",
              "        vertical-align: middle;\n",
              "    }\n",
              "\n",
              "    .dataframe tbody tr th {\n",
              "        vertical-align: top;\n",
              "    }\n",
              "\n",
              "    .dataframe thead th {\n",
              "        text-align: right;\n",
              "    }\n",
              "</style>\n",
              "<table border=\"1\" class=\"dataframe\">\n",
              "  <thead>\n",
              "    <tr style=\"text-align: right;\">\n",
              "      <th></th>\n",
              "      <th>article_id</th>\n",
              "      <th>article</th>\n",
              "      <th>article_embedding</th>\n",
              "      <th>chunk</th>\n",
              "    </tr>\n",
              "  </thead>\n",
              "  <tbody>\n",
              "    <tr>\n",
              "      <th>0</th>\n",
              "      <td>1dd6b844-d788-48f9-aeed-5437be451bcb</td>\n",
              "      <td>Title: Wix Bookings: Scheduling Your Courses\\n...</td>\n",
              "      <td>[-0.03931708261370659, 0.013251065276563168, 0...</td>\n",
              "      <td>Title: Wix Bookings: Scheduling Your Courses</td>\n",
              "    </tr>\n",
              "    <tr>\n",
              "      <th>0</th>\n",
              "      <td>1dd6b844-d788-48f9-aeed-5437be451bcb</td>\n",
              "      <td>Title: Wix Bookings: Scheduling Your Courses\\n...</td>\n",
              "      <td>[-0.03931708261370659, 0.013251065276563168, 0...</td>\n",
              "      <td>Schedule your sessions exactly when you want -...</td>\n",
              "    </tr>\n",
              "    <tr>\n",
              "      <th>0</th>\n",
              "      <td>1dd6b844-d788-48f9-aeed-5437be451bcb</td>\n",
              "      <td>Title: Wix Bookings: Scheduling Your Courses\\n...</td>\n",
              "      <td>[-0.03931708261370659, 0.013251065276563168, 0...</td>\n",
              "      <td>Go to the Booking Calendar tab in your site's ...</td>\n",
              "    </tr>\n",
              "    <tr>\n",
              "      <th>0</th>\n",
              "      <td>1dd6b844-d788-48f9-aeed-5437be451bcb</td>\n",
              "      <td>Title: Wix Bookings: Scheduling Your Courses\\n...</td>\n",
              "      <td>[-0.03931708261370659, 0.013251065276563168, 0...</td>\n",
              "      <td>Course: Select the course you want to schedule...</td>\n",
              "    </tr>\n",
              "    <tr>\n",
              "      <th>0</th>\n",
              "      <td>1dd6b844-d788-48f9-aeed-5437be451bcb</td>\n",
              "      <td>Title: Wix Bookings: Scheduling Your Courses\\n...</td>\n",
              "      <td>[-0.03931708261370659, 0.013251065276563168, 0...</td>\n",
              "      <td>Note: Select Custom to enter a custom duration...</td>\n",
              "    </tr>\n",
              "    <tr>\n",
              "      <th>...</th>\n",
              "      <td>...</td>\n",
              "      <td>...</td>\n",
              "      <td>...</td>\n",
              "      <td>...</td>\n",
              "    </tr>\n",
              "    <tr>\n",
              "      <th>302</th>\n",
              "      <td>741cfafa-a51b-4d3c-9a81-61ee3f684046</td>\n",
              "      <td>Title: Setting Up Tax Calculation Using the Ma...</td>\n",
              "      <td>[-0.047325726598501205, 0.009194145910441875, ...</td>\n",
              "      <td>Tax should be added at checkout: For example, ...</td>\n",
              "    </tr>\n",
              "    <tr>\n",
              "      <th>302</th>\n",
              "      <td>741cfafa-a51b-4d3c-9a81-61ee3f684046</td>\n",
              "      <td>Title: Setting Up Tax Calculation Using the Ma...</td>\n",
              "      <td>[-0.047325726598501205, 0.009194145910441875, ...</td>\n",
              "      <td>Tax is already included in my prices: For exam...</td>\n",
              "    </tr>\n",
              "    <tr>\n",
              "      <th>302</th>\n",
              "      <td>741cfafa-a51b-4d3c-9a81-61ee3f684046</td>\n",
              "      <td>Title: Setting Up Tax Calculation Using the Ma...</td>\n",
              "      <td>[-0.047325726598501205, 0.009194145910441875, ...</td>\n",
              "      <td>Step 5 | (Optional) Create tax groupsNote:Tax ...</td>\n",
              "    </tr>\n",
              "    <tr>\n",
              "      <th>302</th>\n",
              "      <td>741cfafa-a51b-4d3c-9a81-61ee3f684046</td>\n",
              "      <td>Title: Setting Up Tax Calculation Using the Ma...</td>\n",
              "      <td>[-0.047325726598501205, 0.009194145910441875, ...</td>\n",
              "      <td>To manage tax for an entire country, leave the...</td>\n",
              "    </tr>\n",
              "    <tr>\n",
              "      <th>302</th>\n",
              "      <td>741cfafa-a51b-4d3c-9a81-61ee3f684046</td>\n",
              "      <td>Title: Setting Up Tax Calculation Using the Ma...</td>\n",
              "      <td>[-0.047325726598501205, 0.009194145910441875, ...</td>\n",
              "      <td>Alabama Alaska (only certain parts of Alaska a...</td>\n",
              "    </tr>\n",
              "  </tbody>\n",
              "</table>\n",
              "<p>2939 rows × 4 columns</p>\n",
              "</div>\n",
              "    <div class=\"colab-df-buttons\">\n",
              "\n",
              "  <div class=\"colab-df-container\">\n",
              "    <button class=\"colab-df-convert\" onclick=\"convertToInteractive('df-f755ffb7-90f4-4636-82ec-55d1b80cef74')\"\n",
              "            title=\"Convert this dataframe to an interactive table.\"\n",
              "            style=\"display:none;\">\n",
              "\n",
              "  <svg xmlns=\"http://www.w3.org/2000/svg\" height=\"24px\" viewBox=\"0 -960 960 960\">\n",
              "    <path d=\"M120-120v-720h720v720H120Zm60-500h600v-160H180v160Zm220 220h160v-160H400v160Zm0 220h160v-160H400v160ZM180-400h160v-160H180v160Zm440 0h160v-160H620v160ZM180-180h160v-160H180v160Zm440 0h160v-160H620v160Z\"/>\n",
              "  </svg>\n",
              "    </button>\n",
              "\n",
              "  <style>\n",
              "    .colab-df-container {\n",
              "      display:flex;\n",
              "      gap: 12px;\n",
              "    }\n",
              "\n",
              "    .colab-df-convert {\n",
              "      background-color: #E8F0FE;\n",
              "      border: none;\n",
              "      border-radius: 50%;\n",
              "      cursor: pointer;\n",
              "      display: none;\n",
              "      fill: #1967D2;\n",
              "      height: 32px;\n",
              "      padding: 0 0 0 0;\n",
              "      width: 32px;\n",
              "    }\n",
              "\n",
              "    .colab-df-convert:hover {\n",
              "      background-color: #E2EBFA;\n",
              "      box-shadow: 0px 1px 2px rgba(60, 64, 67, 0.3), 0px 1px 3px 1px rgba(60, 64, 67, 0.15);\n",
              "      fill: #174EA6;\n",
              "    }\n",
              "\n",
              "    .colab-df-buttons div {\n",
              "      margin-bottom: 4px;\n",
              "    }\n",
              "\n",
              "    [theme=dark] .colab-df-convert {\n",
              "      background-color: #3B4455;\n",
              "      fill: #D2E3FC;\n",
              "    }\n",
              "\n",
              "    [theme=dark] .colab-df-convert:hover {\n",
              "      background-color: #434B5C;\n",
              "      box-shadow: 0px 1px 3px 1px rgba(0, 0, 0, 0.15);\n",
              "      filter: drop-shadow(0px 1px 2px rgba(0, 0, 0, 0.3));\n",
              "      fill: #FFFFFF;\n",
              "    }\n",
              "  </style>\n",
              "\n",
              "    <script>\n",
              "      const buttonEl =\n",
              "        document.querySelector('#df-f755ffb7-90f4-4636-82ec-55d1b80cef74 button.colab-df-convert');\n",
              "      buttonEl.style.display =\n",
              "        google.colab.kernel.accessAllowed ? 'block' : 'none';\n",
              "\n",
              "      async function convertToInteractive(key) {\n",
              "        const element = document.querySelector('#df-f755ffb7-90f4-4636-82ec-55d1b80cef74');\n",
              "        const dataTable =\n",
              "          await google.colab.kernel.invokeFunction('convertToInteractive',\n",
              "                                                    [key], {});\n",
              "        if (!dataTable) return;\n",
              "\n",
              "        const docLinkHtml = 'Like what you see? Visit the ' +\n",
              "          '<a target=\"_blank\" href=https://colab.research.google.com/notebooks/data_table.ipynb>data table notebook</a>'\n",
              "          + ' to learn more about interactive tables.';\n",
              "        element.innerHTML = '';\n",
              "        dataTable['output_type'] = 'display_data';\n",
              "        await google.colab.output.renderOutput(dataTable, element);\n",
              "        const docLink = document.createElement('div');\n",
              "        docLink.innerHTML = docLinkHtml;\n",
              "        element.appendChild(docLink);\n",
              "      }\n",
              "    </script>\n",
              "  </div>\n",
              "\n",
              "\n",
              "<div id=\"df-330b42c1-b9f6-4541-b571-8fae7a752cf3\">\n",
              "  <button class=\"colab-df-quickchart\" onclick=\"quickchart('df-330b42c1-b9f6-4541-b571-8fae7a752cf3')\"\n",
              "            title=\"Suggest charts\"\n",
              "            style=\"display:none;\">\n",
              "\n",
              "<svg xmlns=\"http://www.w3.org/2000/svg\" height=\"24px\"viewBox=\"0 0 24 24\"\n",
              "     width=\"24px\">\n",
              "    <g>\n",
              "        <path d=\"M19 3H5c-1.1 0-2 .9-2 2v14c0 1.1.9 2 2 2h14c1.1 0 2-.9 2-2V5c0-1.1-.9-2-2-2zM9 17H7v-7h2v7zm4 0h-2V7h2v10zm4 0h-2v-4h2v4z\"/>\n",
              "    </g>\n",
              "</svg>\n",
              "  </button>\n",
              "\n",
              "<style>\n",
              "  .colab-df-quickchart {\n",
              "      --bg-color: #E8F0FE;\n",
              "      --fill-color: #1967D2;\n",
              "      --hover-bg-color: #E2EBFA;\n",
              "      --hover-fill-color: #174EA6;\n",
              "      --disabled-fill-color: #AAA;\n",
              "      --disabled-bg-color: #DDD;\n",
              "  }\n",
              "\n",
              "  [theme=dark] .colab-df-quickchart {\n",
              "      --bg-color: #3B4455;\n",
              "      --fill-color: #D2E3FC;\n",
              "      --hover-bg-color: #434B5C;\n",
              "      --hover-fill-color: #FFFFFF;\n",
              "      --disabled-bg-color: #3B4455;\n",
              "      --disabled-fill-color: #666;\n",
              "  }\n",
              "\n",
              "  .colab-df-quickchart {\n",
              "    background-color: var(--bg-color);\n",
              "    border: none;\n",
              "    border-radius: 50%;\n",
              "    cursor: pointer;\n",
              "    display: none;\n",
              "    fill: var(--fill-color);\n",
              "    height: 32px;\n",
              "    padding: 0;\n",
              "    width: 32px;\n",
              "  }\n",
              "\n",
              "  .colab-df-quickchart:hover {\n",
              "    background-color: var(--hover-bg-color);\n",
              "    box-shadow: 0 1px 2px rgba(60, 64, 67, 0.3), 0 1px 3px 1px rgba(60, 64, 67, 0.15);\n",
              "    fill: var(--button-hover-fill-color);\n",
              "  }\n",
              "\n",
              "  .colab-df-quickchart-complete:disabled,\n",
              "  .colab-df-quickchart-complete:disabled:hover {\n",
              "    background-color: var(--disabled-bg-color);\n",
              "    fill: var(--disabled-fill-color);\n",
              "    box-shadow: none;\n",
              "  }\n",
              "\n",
              "  .colab-df-spinner {\n",
              "    border: 2px solid var(--fill-color);\n",
              "    border-color: transparent;\n",
              "    border-bottom-color: var(--fill-color);\n",
              "    animation:\n",
              "      spin 1s steps(1) infinite;\n",
              "  }\n",
              "\n",
              "  @keyframes spin {\n",
              "    0% {\n",
              "      border-color: transparent;\n",
              "      border-bottom-color: var(--fill-color);\n",
              "      border-left-color: var(--fill-color);\n",
              "    }\n",
              "    20% {\n",
              "      border-color: transparent;\n",
              "      border-left-color: var(--fill-color);\n",
              "      border-top-color: var(--fill-color);\n",
              "    }\n",
              "    30% {\n",
              "      border-color: transparent;\n",
              "      border-left-color: var(--fill-color);\n",
              "      border-top-color: var(--fill-color);\n",
              "      border-right-color: var(--fill-color);\n",
              "    }\n",
              "    40% {\n",
              "      border-color: transparent;\n",
              "      border-right-color: var(--fill-color);\n",
              "      border-top-color: var(--fill-color);\n",
              "    }\n",
              "    60% {\n",
              "      border-color: transparent;\n",
              "      border-right-color: var(--fill-color);\n",
              "    }\n",
              "    80% {\n",
              "      border-color: transparent;\n",
              "      border-right-color: var(--fill-color);\n",
              "      border-bottom-color: var(--fill-color);\n",
              "    }\n",
              "    90% {\n",
              "      border-color: transparent;\n",
              "      border-bottom-color: var(--fill-color);\n",
              "    }\n",
              "  }\n",
              "</style>\n",
              "\n",
              "  <script>\n",
              "    async function quickchart(key) {\n",
              "      const quickchartButtonEl =\n",
              "        document.querySelector('#' + key + ' button');\n",
              "      quickchartButtonEl.disabled = true;  // To prevent multiple clicks.\n",
              "      quickchartButtonEl.classList.add('colab-df-spinner');\n",
              "      try {\n",
              "        const charts = await google.colab.kernel.invokeFunction(\n",
              "            'suggestCharts', [key], {});\n",
              "      } catch (error) {\n",
              "        console.error('Error during call to suggestCharts:', error);\n",
              "      }\n",
              "      quickchartButtonEl.classList.remove('colab-df-spinner');\n",
              "      quickchartButtonEl.classList.add('colab-df-quickchart-complete');\n",
              "    }\n",
              "    (() => {\n",
              "      let quickchartButtonEl =\n",
              "        document.querySelector('#df-330b42c1-b9f6-4541-b571-8fae7a752cf3 button');\n",
              "      quickchartButtonEl.style.display =\n",
              "        google.colab.kernel.accessAllowed ? 'block' : 'none';\n",
              "    })();\n",
              "  </script>\n",
              "</div>\n",
              "\n",
              "  <div id=\"id_fd9ae02f-7706-4e71-a2c2-cf58c1fc1a6f\">\n",
              "    <style>\n",
              "      .colab-df-generate {\n",
              "        background-color: #E8F0FE;\n",
              "        border: none;\n",
              "        border-radius: 50%;\n",
              "        cursor: pointer;\n",
              "        display: none;\n",
              "        fill: #1967D2;\n",
              "        height: 32px;\n",
              "        padding: 0 0 0 0;\n",
              "        width: 32px;\n",
              "      }\n",
              "\n",
              "      .colab-df-generate:hover {\n",
              "        background-color: #E2EBFA;\n",
              "        box-shadow: 0px 1px 2px rgba(60, 64, 67, 0.3), 0px 1px 3px 1px rgba(60, 64, 67, 0.15);\n",
              "        fill: #174EA6;\n",
              "      }\n",
              "\n",
              "      [theme=dark] .colab-df-generate {\n",
              "        background-color: #3B4455;\n",
              "        fill: #D2E3FC;\n",
              "      }\n",
              "\n",
              "      [theme=dark] .colab-df-generate:hover {\n",
              "        background-color: #434B5C;\n",
              "        box-shadow: 0px 1px 3px 1px rgba(0, 0, 0, 0.15);\n",
              "        filter: drop-shadow(0px 1px 2px rgba(0, 0, 0, 0.3));\n",
              "        fill: #FFFFFF;\n",
              "      }\n",
              "    </style>\n",
              "    <button class=\"colab-df-generate\" onclick=\"generateWithVariable('df_chunks')\"\n",
              "            title=\"Generate code using this dataframe.\"\n",
              "            style=\"display:none;\">\n",
              "\n",
              "  <svg xmlns=\"http://www.w3.org/2000/svg\" height=\"24px\"viewBox=\"0 0 24 24\"\n",
              "       width=\"24px\">\n",
              "    <path d=\"M7,19H8.4L18.45,9,17,7.55,7,17.6ZM5,21V16.75L18.45,3.32a2,2,0,0,1,2.83,0l1.4,1.43a1.91,1.91,0,0,1,.58,1.4,1.91,1.91,0,0,1-.58,1.4L9.25,21ZM18.45,9,17,7.55Zm-12,3A5.31,5.31,0,0,0,4.9,8.1,5.31,5.31,0,0,0,1,6.5,5.31,5.31,0,0,0,4.9,4.9,5.31,5.31,0,0,0,6.5,1,5.31,5.31,0,0,0,8.1,4.9,5.31,5.31,0,0,0,12,6.5,5.46,5.46,0,0,0,6.5,12Z\"/>\n",
              "  </svg>\n",
              "    </button>\n",
              "    <script>\n",
              "      (() => {\n",
              "      const buttonEl =\n",
              "        document.querySelector('#id_fd9ae02f-7706-4e71-a2c2-cf58c1fc1a6f button.colab-df-generate');\n",
              "      buttonEl.style.display =\n",
              "        google.colab.kernel.accessAllowed ? 'block' : 'none';\n",
              "\n",
              "      buttonEl.onclick = () => {\n",
              "        google.colab.notebook.generateWithVariable('df_chunks');\n",
              "      }\n",
              "      })();\n",
              "    </script>\n",
              "  </div>\n",
              "\n",
              "    </div>\n",
              "  </div>\n"
            ],
            "application/vnd.google.colaboratory.intrinsic+json": {
              "type": "dataframe",
              "variable_name": "df_chunks",
              "summary": "{\n  \"name\": \"df_chunks\",\n  \"rows\": 2939,\n  \"fields\": [\n    {\n      \"column\": \"article_id\",\n      \"properties\": {\n        \"dtype\": \"category\",\n        \"num_unique_values\": 303,\n        \"samples\": [\n          \"13e699b4-c17e-46c8-a17f-a4f1f21f60b1\",\n          \"cfddbe20-cf6d-4f4b-b641-8f15e8b422fb\",\n          \"43ef4b22-36bc-4fd7-95d1-b4cf46ea7582\"\n        ],\n        \"semantic_type\": \"\",\n        \"description\": \"\"\n      }\n    },\n    {\n      \"column\": \"article\",\n      \"properties\": {\n        \"dtype\": \"category\",\n        \"num_unique_values\": 303,\n        \"samples\": [\n          \"Title: Dayful by Wix: Customizing Your Booking Page\\nAfter setting up your services on Dayful by Wix, customize the page your clients use to book them. This is what they see when you share a link to the service or embed the widget on your website, so make sure it fits your brand.Important:To customize the design of your Booking Page, upgrade your Dayful plan.\\u00a0Need help with Dayful? Send a message to our Experts and they will get back to you as soon as possible.To customize your Booking page:\\nGo to the Channels tab in your Dayful dashboard.\\u00a0 Click Booking Page. Click Edit Design.\\u00a0 Choose what version of your Booking Page to edit, using the arrows next to Preview:\\n    \\nService List: What your clients see when you display your service page. This can include any of your services.\\u00a0 Calendar: Show clients the full weekly timetable for specific appointments or classes.\\u00a0 Memberships and packages: Show clients your pricing plans or membership packages.   Set the colors of your Booking Page on the left:\\n    \\nBackground color: Choose an appropriate background for your services.\\u00a0 Accent color: Choose the color for your Booking Page buttons. Text color: Choose the color for your font, make sure it stands out from the background color and easy to read.\\u00a0 Font: Choose the font for the text on your Booking Page.\\u00a0   Click Save & Publish.\\u00a0Note:The design settings you choose for the Booking Page apply to all links you share and all website widgets you embed.Tip:Click the Mobile Preview button to make sure your Booking Page design is optimized for mobile as well.\\u00a0\\n\\n\",\n          \"Title: Wix Bookings: Making Services Unbookable\\nYou may want to prevent clients from booking services. To do so, you have a number of options:In this article, learn how to:\\nDisplay a service, but make it unbookable Require approval before accepting Appointment requests Temporarily hide a service from your site Delete a serviceCreating a view-only serviceA view-only service shows site visitors all the relevant information about your service, but displays a \\\"More Info\\\" button instead of a \\\"Book It\\\" button. The service cannot be booked through your site.\\u00a0Learn how to create view-only services.Requiring approval for appointments in Wix BookingsYou can let clients put in a booking request, and then approve or decline it. This give you complete control over which bookings you want to accept.\\u00a0Learn how to require approval for appointments.Hiding a service from your siteIf you don't want clients to view a service, you can hide it from your site. When you're ready, you can unhide the service to allow clients to book.\\u00a0To hide a service from your site:\\nGo to Booking Services\\u00a0in your site's dashboard. Hover over the relevant service. Click the More Actions icon  and select Hide from site.Note:Hiding a service does not cancel existing bookings. Learn how to cancel sessions and refund your clients.Deleting a serviceIf you no longer want to offer a particular service, you can delete it. If the service is connected to a pricing plan (a membership plan or package), deleting the service disconnects it.\\u00a0Learn how to delete a service from your site.\\u00a0Note:Deleting a service does not cancel existing bookings. Learn how to cancel sessions and refund your clients.\",\n          \"Title: Wix Bookings: Creating and Managing Shareable Links\\nCreate shareable links to your bookings pages, memberships, and packages, to make it easier than ever for your clients to book your services. You can customize the links to show different services or even showcase the services specific staff members offer. \\u00a0If you're new to Wix, shareable links are a great way to get bookings even before you finish creating your website. We'll make a functional mini-site for you so that you don't miss any bookings while you're adding the finishing touches to your site.\\u00a0Important:\\nMake sure to upgrade your site to accept online payments for your services. We are in the process of rolling out shareable links, but it's not available to everyone yet.\\u00a0In this article, learn more about:\\nSharing a link to your service list Sharing a link to a single service calendar Sharing a link to a service page Sharing a link to your memberships and packages Redirecting existing links to your published site pages Frequently asked questions (FAQs)Sharing a link to your service listShare a link with your clients which directs them to a list of services from a single staff member or at a specific location.To share a link to your service list:\\nGo to Shareable links in the dashboard.\\u00a0 Click Create Link under Service list.\\u00a0 Select the relevant person from the Staff member drop-down or click All staff members.\\u00a0 Click Continue.\\u00a0 Choose what you want to do:\\n    \\nCopy:\\u00a0Choose this option to copy the complete link. This is a great option for hyperlinked text in promotional emails. Share via:\\u00a0Choose the relevant social media platform to share the service link directly.   Click Done.\\u00a0Tip:When clients click the link you send to them, they go to a service list page like this example below: \\n\\nSharing a link to a service calendarYou can share a direct link to a specific service's calendar. This is a great option when you are already speaking to a client about a service and want to make it easy for them to book a session right away.Note:Links to the service calendar work for appointments and classes. Links to courses direct your clients to the course's service page.To share a link to a service calendar:\\nGo to Shareable links in the dashboard. Click Create Link under Service calendar. Click to choose the relevant options from the Service, Staff member and Location drop-downs.\\nNote: If only one staff member offers a service, or if you don't have multiple locations, these drop-downs are unavailable.\\u00a0\\nClick Continue. Choose what you want to do:\\n    \\nCopy:\\u00a0Choose this option to copy the complete link. This is a great option for hyperlinked text in promotional emails. Share via:\\u00a0Choose the relevant social media platform to share the service link directly.   Click Done.Tip: When clients click the link you send to them, they go to a service calendar page like this example below:Sharing a link to a service pageYou can promote individual services by sharing links to the service page, which contains additional details about the service. This is great for targeted marketing campaigns or when following up with a client after a consultation.To share a link to a service page:\\nGo to Shareable links in the dashboard. Click Create Link under Service page. Select the relevant option from the Service drop-down. Click Continue. Choose what you want to do:\\n    \\nCopy:\\u00a0Choose this option to copy the complete link. This is a great option for hyperlinked text in promotional emails. Share via:\\u00a0Choose the relevant social media platform to share the service link directly.   Click Done.Tip: When clients click the link you send to them, they go to a Service page like this example below:Sharing a link to your memberships and packagesYou can share direct links for clients to sign up for your membership plans and packages. This is a great way to generate repeat business and offer better value to your clients when they go to book your services.To share a link to your memberships and packages:\\nGo to Shareable links in the dashboard. Click Create Link under Memberships and packages. Select the relevant option from the Service drop-down. Click Continue. Choose what you want to do:\\n    \\nCopy:\\u00a0Choose this option to copy the complete link. This is a great option for hyperlinked text in promotional emails. Share via:\\u00a0Choose the relevant social media platform to share the service link directly.   Click Done.Redirecting existing links to your published site pagesYou can share links to your services even before you've finished your site. When you publish your site, you'll find the option to redirect your current links at the top of the Shareable Links section in the dashboard. Use this option to update your existing links, so they redirect your clients to your full website.To redirect your existing links to your published site pages:\\nGo to Shareable links in the dashboard. Click Redirect Links at the top. \\u00a0 Click Redirect Links to confirm.FAQsClick a question below to learn more.I haven't finished my website yet, can I still share links to my services?When you use shareable links with a new Wix site, Wix creates a \\\"mini site\\\" in the background for your existing services, so your clients can still book sessions with you.\\u00a0Once you publish your finished site, you can then create new shareable links to direct your users to the relevant page on your completed website.\\u00a0\\nNotes:\\u00a0\\nMake sure to upgrade your site to one of our Premium plans to accept online payments for your services. If you already completed and published your site, Wix doesn't create a mini site for you.\\u00a0I don't have a Premium plan yet, can I still share links to my services?Yes, you can still share links to your services without a Premium plan, but you won't be able to accept online payments.\\u00a0\"\n        ],\n        \"semantic_type\": \"\",\n        \"description\": \"\"\n      }\n    },\n    {\n      \"column\": \"article_embedding\",\n      \"properties\": {\n        \"dtype\": \"object\",\n        \"semantic_type\": \"\",\n        \"description\": \"\"\n      }\n    },\n    {\n      \"column\": \"chunk\",\n      \"properties\": {\n        \"dtype\": \"string\",\n        \"num_unique_values\": 2783,\n        \"samples\": [\n          \"Note:\\u00a0This feature is not available for everyone yet.\\u00a0 Custom Price: Describe how you charge for the service, for example, \\\"Price negotiable\\\".   Click Create New Plan next to Pricing Plans (Memberships & Packages). Click Package.\\u00a0 Click Next.\\u00a0 Enter the plan name and description. Choose the services included in the package:\",\n          \"Click the up or down arrows to add or remove sessions.\",\n          \"Services with online payment only Online services Services you offer in multiple locationsWe are always working to update and improve our products, and your feedback is greatly appreciated.\"\n        ],\n        \"semantic_type\": \"\",\n        \"description\": \"\"\n      }\n    }\n  ]\n}"
            }
          },
          "metadata": {},
          "execution_count": 48
        }
      ]
    },
    {
      "cell_type": "code",
      "source": [
        "df_chunks['chunk_embedding'] = get_embeddings(df_chunks['chunk'])"
      ],
      "metadata": {
        "colab": {
          "base_uri": "https://localhost:8080/"
        },
        "id": "Z2EKP0xMjQ30",
        "outputId": "938c495a-daf7-44c6-c9e8-836cb9fafaee"
      },
      "execution_count": null,
      "outputs": [
        {
          "output_type": "stream",
          "name": "stderr",
          "text": [
            "100%|██████████| 30/30 [00:44<00:00,  1.47s/it]\n"
          ]
        }
      ]
    },
    {
      "cell_type": "code",
      "source": [
        "df_qa['pred_by_chunk'] = df_qa['question_embedding'].progress_apply(\n",
        "    lambda q_emb: rank_similar_articles(q_emb, df_chunks, 'chunk_embedding')\n",
        ")"
      ],
      "metadata": {
        "colab": {
          "base_uri": "https://localhost:8080/"
        },
        "id": "RfAb-P5EjcFu",
        "outputId": "dcef5321-f8a1-43e9-d600-4a1f2cdcffbf"
      },
      "execution_count": null,
      "outputs": [
        {
          "output_type": "stream",
          "name": "stderr",
          "text": [
            "100%|██████████| 150/150 [03:49<00:00,  1.53s/it]\n"
          ]
        }
      ]
    },
    {
      "cell_type": "code",
      "source": [
        "plot_recall('pred_by_article')\n",
        "plot_recall('pred_by_chunk')"
      ],
      "metadata": {
        "colab": {
          "base_uri": "https://localhost:8080/",
          "height": 430
        },
        "id": "0wxwpxj4jgOY",
        "outputId": "9b87d1de-52c6-4248-b873-3e597b5e9d97"
      },
      "execution_count": null,
      "outputs": [
        {
          "output_type": "display_data",
          "data": {
            "text/plain": [
              "<Figure size 640x480 with 1 Axes>"
            ],
            "image/png": "[encoded data removed]"
          },
          "metadata": {}
        }
      ]
    },
    {
      "cell_type": "code",
      "source": [
        "prompt_template = (\n",
        "    'Following is an article from Wix Booking which is an all around '\n",
        "    'scheduling product, allowing Wix users to manage their appointments, '\n",
        "    'collect payment, manage staff members and many more.\\n'\n",
        "    '# TASK\\n'\n",
        "    'Please create three short and significantly different summaries about '\n",
        "    'the article. Each summary should focus on a different part of the article.\\n'\n",
        "    '# ARTICLE\\n'\n",
        "    '{article}\\n\\n'\n",
        "    '# TASK\\n'\n",
        "    'Please create a JSON list containing three summaries of the article. '\n",
        "    'Each item in the list should be a JSON dict containing the following key:\\n'\n",
        "    '- \"summary\": a string containing a short summary of the article.'\n",
        ")\n",
        "\n",
        "print(prompt_template.format(article=df_articles.iloc[0]['article']))"
      ],
      "metadata": {
        "colab": {
          "base_uri": "https://localhost:8080/"
        },
        "id": "rBFFzkXRk8S2",
        "outputId": "f34ab857-7c00-4550-d386-c5cf5b347db8"
      },
      "execution_count": null,
      "outputs": [
        {
          "output_type": "stream",
          "name": "stdout",
          "text": [
            "Following is an article from Wix Booking which is an all around scheduling product, allowing Wix users to manage their appointments, collect payment, manage staff members and many more.\n",
            "# TASK\n",
            "Please create three short and significantly different summaries about the article. Each summary should focus on a different part of the article.\n",
            "# ARTICLE\n",
            "Title: Wix Bookings: Scheduling Your Courses\n",
            "Schedule your sessions exactly when you want - whether the meetings take place at regular intervals (e.g. 1 hour per week every Monday at 8:00), or a more personalized schedule (e.g. a session of a different length once every three weeks with sessions taught by different instructors).After creating a Course, you can schedule its sessions from your booking calendar. When clients book a course, they sign up for the entire course and all its sessions. Before you begin:Create the Course service that you want to schedule (e.g. Advanced Spanish).To schedule a course session:\n",
            "Go to the Booking Calendar tab in your site's dashboard. Click the time slot in which the course takes place for the first time. Select Course Sessions. Add the course session details: \n",
            "    \n",
            "Course: Select the course you want to schedule.  Staff: Select the staff member who is leading the course.  Start Time: Edit the date and start time of the session.  Duration: Select the duration of the course.\n",
            "Note: Select Custom to enter a custom duration.  Repeat: Choose how often the course session is offered: \n",
            "        \n",
            "Select an option from the drop-down.\n",
            "Note: Select Doesn't Repeat to only offer the course once. Select the day of the week the course takes places.  (Optional) Click the field next to Until and choose the date of the last class.      Choose a saving option:\n",
            "    \n",
            "Save & Add New: Save the session and start scheduling another one.  Save: Save the session and return to your calendar.   Tip:Go to the Bookings Services tab and click Show Schedule next to the relevant service to view a summary of its schedule. You can also select the Schedule view in your calendar to check the list of upcoming sessions on the certain date. \n",
            "\n",
            "# TASK\n",
            "Please create a JSON list containing three summaries of the article. Each item in the list should be a JSON dict containing the following key:\n",
            "- \"summary\": a string containing a short summary of the article.\n"
          ]
        }
      ]
    },
    {
      "cell_type": "code",
      "source": [
        "google_client = genai.Client(api_key=userdata.get('gemini_api_key'))\n",
        "\n",
        "\n",
        "class Summary(BaseModel):\n",
        "  summary: str\n",
        "\n",
        "\n",
        "@functools.cache\n",
        "def generate_summaries(article, num_retries=6, sleep_time=10):\n",
        "  for _ in range(num_retries):\n",
        "    try:\n",
        "      prompt = prompt_template.format(article=article)\n",
        "      response = google_client.models.generate_content(\n",
        "          model='gemini-2.0-flash',\n",
        "          contents=prompt,\n",
        "          config={\n",
        "              'response_mime_type': 'application/json',\n",
        "              'response_schema': list[Summary],\n",
        "          },\n",
        "      )\n",
        "      return response.parsed\n",
        "    except:\n",
        "      print('sleeping...')\n",
        "      time.sleep(sleep_time)"
      ],
      "metadata": {
        "id": "zzifg_Fnl8tC"
      },
      "execution_count": null,
      "outputs": []
    },
    {
      "cell_type": "code",
      "source": [
        "df_summaries = df_articles.assign(summaries=df_articles['article'].progress_apply(generate_summaries))"
      ],
      "metadata": {
        "colab": {
          "base_uri": "https://localhost:8080/"
        },
        "id": "LZQLnhC_mdZ0",
        "outputId": "26f40688-250b-4549-e485-a6e87a787690"
      },
      "execution_count": null,
      "outputs": [
        {
          "output_type": "stream",
          "name": "stderr",
          "text": [
            "  6%|▌         | 17/303 [00:23<06:25,  1.35s/it]"
          ]
        },
        {
          "output_type": "stream",
          "name": "stdout",
          "text": [
            "sleeping...\n",
            "sleeping...\n",
            "sleeping...\n",
            "sleeping...\n"
          ]
        },
        {
          "output_type": "stream",
          "name": "stderr",
          "text": [
            " 11%|█         | 33/303 [01:26<05:52,  1.31s/it]"
          ]
        },
        {
          "output_type": "stream",
          "name": "stdout",
          "text": [
            "sleeping...\n",
            "sleeping...\n",
            "sleeping...\n",
            "sleeping...\n"
          ]
        },
        {
          "output_type": "stream",
          "name": "stderr",
          "text": [
            " 16%|█▌        | 49/303 [02:33<06:52,  1.63s/it]"
          ]
        },
        {
          "output_type": "stream",
          "name": "stdout",
          "text": [
            "sleeping...\n",
            "sleeping...\n",
            "sleeping...\n"
          ]
        },
        {
          "output_type": "stream",
          "name": "stderr",
          "text": [
            " 21%|██▏       | 65/303 [03:31<07:55,  2.00s/it]"
          ]
        },
        {
          "output_type": "stream",
          "name": "stdout",
          "text": [
            "sleeping...\n",
            "sleeping...\n",
            "sleeping...\n"
          ]
        },
        {
          "output_type": "stream",
          "name": "stderr",
          "text": [
            " 27%|██▋       | 81/303 [04:29<08:12,  2.22s/it]"
          ]
        },
        {
          "output_type": "stream",
          "name": "stdout",
          "text": [
            "sleeping...\n",
            "sleeping...\n",
            "sleeping...\n",
            "sleeping...\n"
          ]
        },
        {
          "output_type": "stream",
          "name": "stderr",
          "text": [
            " 32%|███▏      | 97/303 [05:41<07:56,  2.32s/it]"
          ]
        },
        {
          "output_type": "stream",
          "name": "stdout",
          "text": [
            "sleeping...\n",
            "sleeping...\n"
          ]
        },
        {
          "output_type": "stream",
          "name": "stderr",
          "text": [
            " 37%|███▋      | 113/303 [06:30<07:05,  2.24s/it]"
          ]
        },
        {
          "output_type": "stream",
          "name": "stdout",
          "text": [
            "sleeping...\n",
            "sleeping...\n",
            "sleeping...\n"
          ]
        },
        {
          "output_type": "stream",
          "name": "stderr",
          "text": [
            " 43%|████▎     | 129/303 [07:28<04:53,  1.69s/it]"
          ]
        },
        {
          "output_type": "stream",
          "name": "stdout",
          "text": [
            "sleeping...\n",
            "sleeping...\n",
            "sleeping...\n",
            "sleeping...\n"
          ]
        },
        {
          "output_type": "stream",
          "name": "stderr",
          "text": [
            " 48%|████▊     | 145/303 [08:41<04:44,  1.80s/it]"
          ]
        },
        {
          "output_type": "stream",
          "name": "stdout",
          "text": [
            "sleeping...\n",
            "sleeping...\n"
          ]
        },
        {
          "output_type": "stream",
          "name": "stderr",
          "text": [
            " 53%|█████▎    | 161/303 [09:39<05:24,  2.28s/it]"
          ]
        },
        {
          "output_type": "stream",
          "name": "stdout",
          "text": [
            "sleeping...\n",
            "sleeping...\n",
            "sleeping...\n"
          ]
        },
        {
          "output_type": "stream",
          "name": "stderr",
          "text": [
            " 58%|█████▊    | 177/303 [10:43<04:49,  2.30s/it]"
          ]
        },
        {
          "output_type": "stream",
          "name": "stdout",
          "text": [
            "sleeping...\n",
            "sleeping...\n"
          ]
        },
        {
          "output_type": "stream",
          "name": "stderr",
          "text": [
            " 64%|██████▎   | 193/303 [11:40<04:11,  2.29s/it]"
          ]
        },
        {
          "output_type": "stream",
          "name": "stdout",
          "text": [
            "sleeping...\n",
            "sleeping...\n"
          ]
        },
        {
          "output_type": "stream",
          "name": "stderr",
          "text": [
            " 69%|██████▉   | 209/303 [12:21<02:08,  1.36s/it]"
          ]
        },
        {
          "output_type": "stream",
          "name": "stdout",
          "text": [
            "sleeping...\n",
            "sleeping...\n",
            "sleeping...\n",
            "sleeping...\n"
          ]
        },
        {
          "output_type": "stream",
          "name": "stderr",
          "text": [
            " 74%|███████▍  | 225/303 [13:30<02:16,  1.76s/it]"
          ]
        },
        {
          "output_type": "stream",
          "name": "stdout",
          "text": [
            "sleeping...\n",
            "sleeping...\n",
            "sleeping...\n"
          ]
        },
        {
          "output_type": "stream",
          "name": "stderr",
          "text": [
            " 80%|███████▉  | 241/303 [14:37<02:17,  2.22s/it]"
          ]
        },
        {
          "output_type": "stream",
          "name": "stdout",
          "text": [
            "sleeping...\n",
            "sleeping...\n",
            "sleeping...\n"
          ]
        },
        {
          "output_type": "stream",
          "name": "stderr",
          "text": [
            " 85%|████████▍ | 257/303 [15:40<01:29,  1.94s/it]"
          ]
        },
        {
          "output_type": "stream",
          "name": "stdout",
          "text": [
            "sleeping...\n",
            "sleeping...\n"
          ]
        },
        {
          "output_type": "stream",
          "name": "stderr",
          "text": [
            " 90%|█████████ | 273/303 [16:26<01:05,  2.18s/it]"
          ]
        },
        {
          "output_type": "stream",
          "name": "stdout",
          "text": [
            "sleeping...\n",
            "sleeping...\n",
            "sleeping...\n",
            "sleeping...\n"
          ]
        },
        {
          "output_type": "stream",
          "name": "stderr",
          "text": [
            " 95%|█████████▌| 289/303 [17:35<00:28,  2.06s/it]"
          ]
        },
        {
          "output_type": "stream",
          "name": "stdout",
          "text": [
            "sleeping...\n",
            "sleeping...\n",
            "sleeping...\n"
          ]
        },
        {
          "output_type": "stream",
          "name": "stderr",
          "text": [
            "100%|██████████| 303/303 [18:37<00:00,  3.69s/it]\n"
          ]
        }
      ]
    },
    {
      "cell_type": "code",
      "source": [
        "df_summaries = df_summaries.explode('summaries').rename(columns={'summaries': 'summary'})\n",
        "df_summaries['summary'] = df_summaries['summary'].apply(lambda summary: summary.summary)"
      ],
      "metadata": {
        "id": "uWybcm2znN-p"
      },
      "execution_count": null,
      "outputs": []
    },
    {
      "cell_type": "code",
      "source": [
        "df_summaries['summary_embedding'] = get_embeddings(df_summaries['summary'])"
      ],
      "metadata": {
        "colab": {
          "base_uri": "https://localhost:8080/"
        },
        "id": "h8QMPy2cnRoZ",
        "outputId": "c8f5556a-0390-4dc1-89d5-0c1144d1cc60"
      },
      "execution_count": null,
      "outputs": [
        {
          "output_type": "stream",
          "name": "stderr",
          "text": [
            "100%|██████████| 10/10 [00:09<00:00,  1.04it/s]\n"
          ]
        }
      ]
    },
    {
      "cell_type": "code",
      "source": [
        "df_qa['pred_by_summary'] = df_qa['question_embedding'].progress_apply(\n",
        "    lambda q_emb: rank_similar_articles(\n",
        "        q_emb,\n",
        "        pd.concat([\n",
        "            df_summaries,\n",
        "            df_articles.rename(columns={'article_embedding': 'summary_embedding'})\n",
        "        ]),\n",
        "        'summary_embedding'\n",
        "    )\n",
        ")"
      ],
      "metadata": {
        "colab": {
          "base_uri": "https://localhost:8080/"
        },
        "id": "ddl1J4rZn3Gn",
        "outputId": "f6333db5-c0bc-4353-83c1-2945677c81cb"
      },
      "execution_count": null,
      "outputs": [
        {
          "output_type": "stream",
          "name": "stderr",
          "text": [
            "100%|██████████| 150/150 [01:29<00:00,  1.68it/s]\n"
          ]
        }
      ]
    },
    {
      "cell_type": "code",
      "source": [
        "plot_recall('pred_by_article')\n",
        "plot_recall('pred_by_chunk')\n",
        "plot_recall('pred_by_summary')"
      ],
      "metadata": {
        "colab": {
          "base_uri": "https://localhost:8080/",
          "height": 430
        },
        "id": "_cxEfKJOn3D3",
        "outputId": "056184b9-a28b-4f41-af94-b101d8b8a284"
      },
      "execution_count": null,
      "outputs": [
        {
          "output_type": "display_data",
          "data": {
            "text/plain": [
              "<Figure size 640x480 with 1 Axes>"
            ],
            "image/png": "[encoded data removed]"
          },
          "metadata": {}
        }
      ]
    },
    {
      "cell_type": "code",
      "source": [],
      "metadata": {
        "id": "cRr1umY0rqHP"
      },
      "execution_count": null,
      "outputs": []
    }
  ]
}